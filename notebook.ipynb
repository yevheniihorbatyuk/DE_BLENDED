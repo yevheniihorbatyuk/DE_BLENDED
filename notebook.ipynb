{
 "cells": [
  {
   "cell_type": "code",
   "execution_count": null,
   "metadata": {},
   "outputs": [],
   "source": [
    "from kafka.admin import KafkaAdminClient\n",
    "from configs import kafka_config\n"
   ]
  },
  {
   "cell_type": "code",
   "execution_count": null,
   "metadata": {},
   "outputs": [],
   "source": [
    "\n",
    "# Load Kafka configuration\n",
    "bootstrap_servers = kafka_config.get('bootstrap_servers')\n",
    "security_protocol = kafka_config.get('security_protocol', 'PLAINTEXT')\n",
    "sasl_mechanism = kafka_config.get('sasl_mechanism', 'PLAIN')\n",
    "sasl_plain_username = kafka_config.get('username', '')\n",
    "sasl_plain_password = kafka_config.get('password', '')\n",
    "\n",
    "# Create Kafka Admin Client\n",
    "admin_client = KafkaAdminClient(\n",
    "    bootstrap_servers=bootstrap_servers,\n",
    "    security_protocol=security_protocol,\n",
    "    sasl_mechanism=sasl_mechanism,\n",
    "    sasl_plain_username=sasl_plain_username,\n",
    "    sasl_plain_password=sasl_plain_password\n",
    ")\n"
   ]
  },
  {
   "cell_type": "code",
   "execution_count": null,
   "metadata": {},
   "outputs": [],
   "source": [
    "\n",
    "# Kafka topics to check\n",
    "topics_to_check = ['topic1', 'topic2', 'topic3']\n",
    "\n"
   ]
  },
  {
   "cell_type": "code",
   "execution_count": null,
   "metadata": {},
   "outputs": [],
   "source": [
    "\n",
    "# Fetch the list of existing topics\n",
    "existing_topics = admin_client.list_topics()\n",
    "\n",
    "# Check if topics exist\n",
    "missing_topics = [topic for topic in topics_to_check if topic not in existing_topics]\n",
    "\n",
    "# Print the results\n",
    "if not missing_topics:\n",
    "    print(\"All topics exist:\", topics_to_check)\n",
    "else:\n",
    "    print(\"The following topics are missing:\", missing_topics)\n",
    "\n",
    "# Close the admin client connection\n",
    "admin_client.close()"
   ]
  }
 ],
 "metadata": {
  "kernelspec": {
   "display_name": "venv_l",
   "language": "python",
   "name": "python3"
  },
  "language_info": {
   "name": "python",
   "version": "3.10.12"
  }
 },
 "nbformat": 4,
 "nbformat_minor": 2
}

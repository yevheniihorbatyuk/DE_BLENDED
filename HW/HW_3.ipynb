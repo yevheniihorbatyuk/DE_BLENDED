{
 "cells": [
  {
   "cell_type": "code",
   "execution_count": 23,
   "metadata": {},
   "outputs": [],
   "source": [
    "# %pip install pyspark\n",
    "# %pip install requests"
   ]
  },
  {
   "cell_type": "code",
   "execution_count": 24,
   "metadata": {},
   "outputs": [],
   "source": [
    "# with open('./tmp', 'a') as f:\n",
    "#     for i in range(13):\n",
    "#         print(i)    \n",
    "#         f.write(f\"\"\"\n",
    "# # Topic {i} \n",
    "\n",
    "# ---\n",
    "# \"\"\")"
   ]
  },
  {
   "cell_type": "code",
   "execution_count": 25,
   "metadata": {},
   "outputs": [
    {
     "name": "stdout",
     "output_type": "stream",
     "text": [
      "Файл з ID 1GN8o8vYP8LLj3A0UWkvbgnf0YjcF3PkV завантажено успішно.\n",
      "Файл з ID 1im5cGVl1z8ejypTyNJZSQ2lqMGh6tTFN завантажено успішно.\n",
      "Файл з ID 1cDLTc0KYQfnsDWHLR0cJkF5puBpAo2Uh завантажено успішно.\n",
      "Перші 5 рядків Users.csv:\n",
      "   user_id    name   age              email\n",
      "0        1  User_1  45.0  user1@example.com\n",
      "1        2  User_2  48.0  user2@example.com\n",
      "2        3  User_3  36.0  user3@example.com\n",
      "3        4  User_4  46.0  user4@example.com\n",
      "4        5  User_5  29.0  user5@example.com\n",
      "Перші 5 рядків Products.csv:\n",
      "   product_id product_name     category  price\n",
      "0         1.0    Product_1       Beauty    8.3\n",
      "1         2.0    Product_2         Home    8.3\n",
      "2         3.0    Product_3  Electronics    9.2\n",
      "3         4.0    Product_4  Electronics    2.6\n",
      "4         5.0    Product_5  Electronics    9.4\n",
      "Перші 5 рядків Purchases.csv:\n",
      "   purchase_id  user_id  product_id        date  quantity\n",
      "0            1     52.0         9.0  2022-01-01       1.0\n",
      "1            2     93.0        37.0  2022-01-02       8.0\n",
      "2            3     15.0        33.0  2022-01-03       1.0\n",
      "3            4     72.0        42.0  2022-01-04       9.0\n",
      "4            5     61.0        44.0  2022-01-05       6.0\n"
     ]
    }
   ],
   "source": [
    "import requests\n",
    "import io\n",
    "import pandas as pd\n",
    "\n",
    "# Функція для завантаження файлу з Google Drive і збереження його як DataFrame\n",
    "def download_file_to_dataframe(file_id):\n",
    "    url = f\"https://drive.google.com/uc?export=download&id={file_id}\"\n",
    "    response = requests.get(url, stream=True)\n",
    "    if response.status_code == 200:\n",
    "        content = b''\n",
    "        for chunk in response.iter_content(chunk_size=32768):\n",
    "            if chunk:\n",
    "                content += chunk\n",
    "        print(f\"Файл з ID {file_id} завантажено успішно.\")\n",
    "        return pd.read_csv(io.BytesIO(content))\n",
    "    else:\n",
    "        print(f\"Не вдалося завантажити файл з ID {file_id}\")\n",
    "        return None\n",
    "\n",
    "# Список файлів для завантаження\n",
    "files = [\n",
    "    (\"1GN8o8vYP8LLj3A0UWkvbgnf0YjcF3PkV\", \"Users.csv\"),\n",
    "    (\"1im5cGVl1z8ejypTyNJZSQ2lqMGh6tTFN\", \"Products.csv\"),\n",
    "    (\"1cDLTc0KYQfnsDWHLR0cJkF5puBpAo2Uh\", \"Purchases.csv\")\n",
    "]\n",
    "\n",
    "# Зчитування файлів як DataFrame\n",
    "dataframes = {}\n",
    "for file_id, name in files:\n",
    "    df = download_file_to_dataframe(file_id)\n",
    "    if df is not None:\n",
    "        dataframes[name] = df\n",
    "\n",
    "# Приклад доступу до даних\n",
    "for name, df in dataframes.items():\n",
    "    print(f\"Перші 5 рядків {name}:\")\n",
    "    print(df.head())\n"
   ]
  },
  {
   "cell_type": "code",
   "execution_count": 26,
   "metadata": {},
   "outputs": [
    {
     "name": "stdout",
     "output_type": "stream",
     "text": [
      "Файл завантажено успішно: ./data/Users.csv\n",
      "Файл завантажено успішно: ./data/Products.csv\n",
      "Файл завантажено успішно: ./data/Purchases.csv\n"
     ]
    }
   ],
   "source": [
    "import requests\n",
    "\n",
    "# Функція для завантаження файлу з Google Drive\n",
    "def download_file_from_google_drive(file_id, destination):\n",
    "    url = f\"https://drive.google.com/uc?export=download&id={file_id}\"\n",
    "    response = requests.get(url, stream=True)\n",
    "    if response.status_code == 200:\n",
    "        with open(destination, 'wb') as file:\n",
    "            for chunk in response.iter_content(chunk_size=32768):\n",
    "                if chunk:\n",
    "                    file.write(chunk)\n",
    "        print(f\"Файл завантажено успішно: {destination}\")\n",
    "    else:\n",
    "        print(f\"Не вдалося завантажити файл з ID {file_id}\")\n",
    "\n",
    "# Список файлів для завантаження\n",
    "files = [\n",
    "    (\"1GN8o8vYP8LLj3A0UWkvbgnf0YjcF3PkV\", \"./data/Users.csv\"),\n",
    "    (\"1im5cGVl1z8ejypTyNJZSQ2lqMGh6tTFN\", \"./data/Products.csv\"),\n",
    "    (\"1cDLTc0KYQfnsDWHLR0cJkF5puBpAo2Uh\", \"./data/Purchases.csv\")\n",
    "]\n",
    "\n",
    "# Завантаження файлів\n",
    "for file_id, destination in files:\n",
    "    download_file_from_google_drive(file_id, destination)\n"
   ]
  },
  {
   "cell_type": "code",
   "execution_count": 27,
   "metadata": {},
   "outputs": [],
   "source": [
    "from pyspark.sql import SparkSession\n",
    "from pyspark.sql.functions import *\n",
    "from pyspark.sql.types import TimestampType, IntegerType"
   ]
  },
  {
   "cell_type": "code",
   "execution_count": 28,
   "metadata": {},
   "outputs": [],
   "source": [
    "# Створюємо Spark сесію\n",
    "spark = SparkSession.builder \\\n",
    "    .appName(\"PySpark Data Manipulation Homework\") \\\n",
    "    .getOrCreate()"
   ]
  },
  {
   "cell_type": "code",
   "execution_count": 29,
   "metadata": {},
   "outputs": [],
   "source": [
    "# 1. Завантажуємо датасети (10 балів)\n",
    "users_df_raw = spark.read.csv('./data/Users.csv', header=True, inferSchema=True)\n",
    "purchases_df_raw = spark.read.csv('./data/Purchases.csv', header=True, inferSchema=True)\n",
    "products_df_raw = spark.read.csv('./data/Products.csv', header=True, inferSchema=True)\n"
   ]
  },
  {
   "cell_type": "code",
   "execution_count": 45,
   "metadata": {},
   "outputs": [
    {
     "name": "stdout",
     "output_type": "stream",
     "text": [
      "+-------+------+---+-----------------+\n",
      "|user_id|  name|age|            email|\n",
      "+-------+------+---+-----------------+\n",
      "|      1|User_1| 45|user1@example.com|\n",
      "|      2|User_2| 48|user2@example.com|\n",
      "+-------+------+---+-----------------+\n",
      "\n",
      "+-----------+-------+----------+----------+--------+\n",
      "|purchase_id|user_id|product_id|      date|quantity|\n",
      "+-----------+-------+----------+----------+--------+\n",
      "|          1|     52|         9|2022-01-01|       1|\n",
      "|          2|     93|        37|2022-01-02|       8|\n",
      "+-----------+-------+----------+----------+--------+\n",
      "\n",
      "+----------+------------+--------+-----+\n",
      "|product_id|product_name|category|price|\n",
      "+----------+------------+--------+-----+\n",
      "|         1|   Product_1|  Beauty|  8.3|\n",
      "|         2|   Product_2|    Home|  8.3|\n",
      "+----------+------------+--------+-----+\n",
      "\n"
     ]
    },
    {
     "data": {
      "text/plain": [
       "[None, None, None]"
      ]
     },
     "execution_count": 45,
     "metadata": {},
     "output_type": "execute_result"
    }
   ],
   "source": [
    "[df.limit(2).show() for df in (users_df_raw,\n",
    "purchases_df_raw,\n",
    "products_df_raw)]"
   ]
  },
  {
   "cell_type": "code",
   "execution_count": 31,
   "metadata": {},
   "outputs": [],
   "source": [
    "# 2. Очищаємо дані від null-значень (10 балів)\n",
    "users_df = users_df_raw.dropna()\n",
    "purchases_df = purchases_df_raw.dropna()\n",
    "products_df = products_df_raw.dropna()"
   ]
  },
  {
   "cell_type": "code",
   "execution_count": 32,
   "metadata": {},
   "outputs": [
    {
     "name": "stdout",
     "output_type": "stream",
     "text": [
      "+-----------+---------------------+\n",
      "|   category|cost_per_category_tot|\n",
      "+-----------+---------------------+\n",
      "|       Home|   1523.4999999999998|\n",
      "|     Sports|   1802.4999999999998|\n",
      "|Electronics|   1174.7999999999997|\n",
      "|   Clothing|                790.3|\n",
      "|     Beauty|    459.8999999999999|\n",
      "+-----------+---------------------+\n",
      "\n"
     ]
    }
   ],
   "source": [
    "# 3. Загальна сума покупок за кожною категорією продуктів (20 балів)\n",
    "def calc_cost_per_category(init_df, col_appendix):\n",
    "    return init_df \\\n",
    "        .withColumn(\"cost\", col(\"price\") * col(\"quantity\")) \\\n",
    "        .groupBy(\"category\") \\\n",
    "        .agg(sum(\"cost\").alias(f\"cost_per_category_{col_appendix}\"))\n",
    "\n",
    "\n",
    "total_sales_by_category = calc_cost_per_category(products_df.join(purchases_df, \"product_id\", \"inner\"), \"tot\")\n",
    "total_sales_by_category.show()\n"
   ]
  },
  {
   "cell_type": "code",
   "execution_count": 33,
   "metadata": {},
   "outputs": [
    {
     "name": "stdout",
     "output_type": "stream",
     "text": [
      "+-----------+-----------------------+\n",
      "|   category|cost_per_category_young|\n",
      "+-----------+-----------------------+\n",
      "|       Home|                  361.1|\n",
      "|     Sports|     310.49999999999994|\n",
      "|Electronics|                  249.6|\n",
      "|   Clothing|                  245.0|\n",
      "|     Beauty|     41.400000000000006|\n",
      "+-----------+-----------------------+\n",
      "\n"
     ]
    }
   ],
   "source": [
    "\n",
    "# 4. Загальна сума покупок за кожною категорією продуктів віком від 18 до 25 років (25 балів)\n",
    "joined_filtered_df = users_df.join(purchases_df, \"user_id\", \"inner\") \\\n",
    "    .join(products_df, \"product_id\") \\\n",
    "    .filter((col(\"age\") >= 18) & (col(\"age\") <= 25))\n",
    "\n",
    "young_users_purchases = calc_cost_per_category(joined_filtered_df, \"young\")\n",
    "young_users_purchases.show()\n"
   ]
  },
  {
   "cell_type": "code",
   "execution_count": 44,
   "metadata": {},
   "outputs": [
    {
     "name": "stdout",
     "output_type": "stream",
     "text": [
      "+-----------+-----------------------+\n",
      "|   category|cost_per_category_young|\n",
      "+-----------+-----------------------+\n",
      "|       Home|                  361.1|\n",
      "|     Sports|     310.49999999999994|\n",
      "|Electronics|                  249.6|\n",
      "|   Clothing|                  245.0|\n",
      "|     Beauty|     41.400000000000006|\n",
      "+-----------+-----------------------+\n",
      "\n"
     ]
    }
   ],
   "source": [
    "young_users_purchases.show()"
   ]
  },
  {
   "cell_type": "code",
   "execution_count": 48,
   "metadata": {},
   "outputs": [],
   "source": [
    "\n",
    "# 5. Частка покупок за кожною категорією товарів від сумарних витрат для вікової категорії від 18 до 25 років (25 балів)\n",
    "\n",
    "# Перейменовуємо стовпець у total_sales_by_category\n",
    "total_sales_by_category = total_sales_by_category.withColumnRenamed(\n",
    "    \"cost_per_category\", \"cost_per_category_tot\"\n",
    ")\n",
    "\n",
    "# Перейменовуємо стовпець у young_users_purchases\n",
    "young_users_purchases = young_users_purchases.withColumnRenamed(\n",
    "    \"cost_per_category\", \"cost_per_category_young\"\n",
    ")\n",
    "\n",
    "# Виконуємо з'єднання\n",
    "percentages_df = total_sales_by_category.join(\n",
    "    young_users_purchases,\n",
    "    on=\"category\",\n",
    "    how=\"inner\"\n",
    ").withColumn(\n",
    "    \"percentage\",\n",
    "    round(\n",
    "        col(\"cost_per_category_young\") / col(\"cost_per_category_tot\") * 100,\n",
    "        2\n",
    "    )\n",
    ").select(\n",
    "    \"category\",\n",
    "    \"percentage\"\n",
    ").orderBy(\n",
    "    \"percentage\",\n",
    "    ascending=False\n",
    ")\n",
    "\n"
   ]
  },
  {
   "cell_type": "code",
   "execution_count": 49,
   "metadata": {},
   "outputs": [
    {
     "name": "stdout",
     "output_type": "stream",
     "text": [
      "+-----------+----------+\n",
      "|   category|percentage|\n",
      "+-----------+----------+\n",
      "|   Clothing|      31.0|\n",
      "|       Home|      23.7|\n",
      "|Electronics|     21.25|\n",
      "|     Sports|     17.23|\n",
      "|     Beauty|       9.0|\n",
      "+-----------+----------+\n",
      "\n"
     ]
    }
   ],
   "source": [
    "\n",
    "percentages_df.show()\n"
   ]
  },
  {
   "cell_type": "code",
   "execution_count": 52,
   "metadata": {},
   "outputs": [
    {
     "name": "stdout",
     "output_type": "stream",
     "text": [
      "+-----------+----------------------+-------------+\n",
      "|   category|category_total_expense|expense_share|\n",
      "+-----------+----------------------+-------------+\n",
      "|       Home|                 361.1|         29.9|\n",
      "|     Sports|    310.49999999999994|        25.71|\n",
      "|Electronics|                 249.6|        20.67|\n",
      "|   Clothing|                 245.0|        20.29|\n",
      "|     Beauty|    41.400000000000006|         3.43|\n",
      "+-----------+----------------------+-------------+\n",
      "\n"
     ]
    }
   ],
   "source": [
    "from pyspark.sql.functions import col, sum as spark_sum\n",
    "\n",
    "# Крок 2: Фільтрація користувачів за віком від 18 до 25 років\n",
    "users_filtered_df = users_df.filter((col('age') >= 18) & (col('age') <= 25))\n",
    "\n",
    "# Крок 3: Об'єднання даних користувачів з покупками\n",
    "purchases_users_df = purchases_df.join(users_filtered_df, on='user_id', how='inner')\n",
    "\n",
    "# Крок 4: Об'єднання з даними про продукти\n",
    "purchases_products_df = purchases_users_df.join(products_df, on='product_id', how='inner')\n",
    "\n",
    "# Крок 5: Обчислення загальних витрат для кожної покупки\n",
    "purchases_products_df = purchases_products_df.withColumn('total_purchase_price', col('price') * col('quantity'))\n",
    "\n",
    "# Крок 6: Обчислення сумарних витрат за кожною категорією\n",
    "category_expenses_df = purchases_products_df.groupBy('category').agg(\n",
    "    spark_sum('total_purchase_price').alias('category_total_expense')\n",
    ")\n",
    "\n",
    "# Крок 7: Обчислення загальних витрат для всіх категорій\n",
    "total_expense = purchases_products_df.agg(\n",
    "    spark_sum('total_purchase_price').alias('total_expense')\n",
    ").collect()[0]['total_expense']\n",
    "\n",
    "# Крок 8: Обчислення частки витрат за кожною категорією\n",
    "category_share_df = category_expenses_df.withColumn(\n",
    "    'expense_share',\n",
    "    round((col('category_total_expense') / total_expense) * 100, 2)\n",
    ")\n",
    "\n",
    "# Крок 9: Відображення результату\n",
    "category_share_df.show()\n"
   ]
  },
  {
   "cell_type": "code",
   "execution_count": 36,
   "metadata": {},
   "outputs": [
    {
     "name": "stdout",
     "output_type": "stream",
     "text": [
      "+-----------+----------+\n",
      "|   category|percentage|\n",
      "+-----------+----------+\n",
      "|   Clothing|      31.0|\n",
      "|       Home|      23.7|\n",
      "|Electronics|     21.25|\n",
      "+-----------+----------+\n",
      "\n"
     ]
    }
   ],
   "source": [
    "\n",
    "# 6. Топ-3 категорії продуктів з найвищим відсотком витрат споживачами віком від 18 до 25 років (10 балів)\n",
    "percentages_df \\\n",
    "    .orderBy(\"percentage\", ascending=False) \\\n",
    "    .limit(3) \\\n",
    "    .show()\n"
   ]
  },
  {
   "cell_type": "code",
   "execution_count": 17,
   "metadata": {},
   "outputs": [],
   "source": [
    "\n",
    "# Закриваємо Spark сесію\n",
    "spark.stop()"
   ]
  },
  {
   "cell_type": "code",
   "execution_count": 1,
   "metadata": {},
   "outputs": [],
   "source": [
    "from pyspark.sql import SparkSession\n",
    "\n",
    "spark = SparkSession.builder.appName(\"FirstSession\").master(\"spark://172.233.34.56:7077\").getOrCreate()\n"
   ]
  },
  {
   "cell_type": "code",
   "execution_count": 2,
   "metadata": {},
   "outputs": [],
   "source": [
    "spark.stop()"
   ]
  },
  {
   "cell_type": "code",
   "execution_count": null,
   "metadata": {},
   "outputs": [],
   "source": []
  }
 ],
 "metadata": {
  "kernelspec": {
   "display_name": "Python 3",
   "language": "python",
   "name": "python3"
  },
  "language_info": {
   "codemirror_mode": {
    "name": "ipython",
    "version": 3
   },
   "file_extension": ".py",
   "mimetype": "text/x-python",
   "name": "python",
   "nbconvert_exporter": "python",
   "pygments_lexer": "ipython3",
   "version": "3.11.9"
  }
 },
 "nbformat": 4,
 "nbformat_minor": 2
}

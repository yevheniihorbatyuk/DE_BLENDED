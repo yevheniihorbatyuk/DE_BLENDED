{
 "cells": [
  {
   "cell_type": "markdown",
   "metadata": {},
   "source": [
    "# Object Producer"
   ]
  },
  {
   "cell_type": "code",
   "execution_count": null,
   "metadata": {},
   "outputs": [],
   "source": [
    "import json\n",
    "import yaml\n",
    "import logging\n",
    "import websockets\n",
    "import asyncio\n",
    "from kafka import KafkaProducer\n",
    "from datetime import datetime\n",
    "import uuid\n",
    "\n",
    "\n",
    "class BinanceWebSocketProducer:\n",
    "    def __init__(self, config_path: str):\n",
    "        \"\"\"Initialize the WebSocket producer with configuration\"\"\"\n",
    "        with open(config_path, 'r') as file:\n",
    "            self.config = yaml.safe_load(file)\n",
    "\n",
    "        self._setup_logging()\n",
    "        self._setup_kafka_producer()\n",
    "\n",
    "    def _setup_logging(self):\n",
    "        \"\"\"Configure logging\"\"\"\n",
    "        logging.basicConfig(\n",
    "            level=self.config['logging']['level'],\n",
    "            format=self.config['logging']['format'],\n",
    "            filename=self.config['logging']['file']\n",
    "        )\n",
    "        self.logger = logging.getLogger('BinanceWebSocketProducer')\n",
    "\n",
    "        # Add console output\n",
    "        console_handler = logging.StreamHandler()\n",
    "        console_handler.setLevel(self.config['logging']['level'])\n",
    "        console_handler.setFormatter(logging.Formatter(self.config['logging']['format']))\n",
    "        self.logger.addHandler(console_handler)\n",
    "\n",
    "    def _setup_kafka_producer(self):\n",
    "        \"\"\"Initialize Kafka producer with configuration\"\"\"\n",
    "        from configs import kafka_config\n",
    "        self.producer = KafkaProducer(\n",
    "            bootstrap_servers=kafka_config['bootstrap_servers'],\n",
    "            security_protocol=kafka_config['security_protocol'],\n",
    "            sasl_mechanism=kafka_config['sasl_mechanism'],\n",
    "            sasl_plain_username=kafka_config['username'],\n",
    "            sasl_plain_password=kafka_config['password'],\n",
    "            value_serializer=lambda v: json.dumps(v).encode('utf-8'),\n",
    "            key_serializer=lambda v: json.dumps(v).encode('utf-8')\n",
    "        )\n",
    "        self.logger.info(\"Kafka producer initialized successfully\")\n",
    "\n",
    "    async def start_streaming(self):\n",
    "        \"\"\"Start WebSocket streaming\"\"\"\n",
    "        async with websockets.connect(self.config['binance']['websocket_url']) as websocket:\n",
    "            self.logger.info(\"Connected to Binance WebSocket\")\n",
    "\n",
    "            # Subscribe to streams\n",
    "            subscribe_message = {\n",
    "                \"method\": \"SUBSCRIBE\",\n",
    "                \"params\": [f\"{symbol}@trade\" for symbol in self.config['binance'].get('symbols', ['btcusdt'])],\n",
    "                \"id\": 1\n",
    "            }\n",
    "            await websocket.send(json.dumps(subscribe_message))\n",
    "            self.logger.info(f\"Sent subscription message: {subscribe_message}\")\n",
    "\n",
    "            while True:\n",
    "                message = await websocket.recv()\n",
    "                self.logger.info(f\"Received message: {message}\")\n",
    "\n",
    "                # Parse and send to Kafka\n",
    "                data = json.loads(message)\n",
    "                self.producer.send(\n",
    "                    self.config['topics']['raw_data'],\n",
    "                    value=data,\n",
    "                    key=str(uuid.uuid4())\n",
    "                )\n",
    "                self.producer.flush()\n",
    "                self.logger.info(f\"Message sent to Kafka: {data}\")\n",
    "\n",
    "    def shutdown(self):\n",
    "        \"\"\"Clean shutdown of the producer\"\"\"\n",
    "        try:\n",
    "            self.producer.flush()\n",
    "            self.producer.close()\n",
    "            self.logger.info(\"Producer shut down successfully\")\n",
    "        except Exception as e:\n",
    "            self.logger.error(f\"Error during shutdown: {str(e)}\")\n",
    "\n",
    "\n",
    "if __name__ == \"__main__\":\n",
    "    producer = BinanceWebSocketProducer('config.yaml')\n",
    "\n",
    "    async def run_producer():\n",
    "        try:\n",
    "            await producer.start_streaming()\n",
    "        except KeyboardInterrupt:\n",
    "            producer.logger.info(\"Received shutdown signal\")\n",
    "        finally:\n",
    "            producer.shutdown()\n",
    "\n",
    "    loop = asyncio.get_event_loop()\n",
    "    if loop.is_running():\n",
    "        # Для середовищ, де цикл вже працює\n",
    "        loop.create_task(run_producer())\n",
    "    else:\n",
    "        loop.run_until_complete(run_producer())\n",
    "\n"
   ]
  },
  {
   "cell_type": "markdown",
   "metadata": {},
   "source": [
    "# Dev consumer"
   ]
  },
  {
   "cell_type": "code",
   "execution_count": 2,
   "metadata": {},
   "outputs": [],
   "source": [
    "producer = BinanceWebSocketProducer('./config.yaml')"
   ]
  },
  {
   "cell_type": "code",
   "execution_count": 3,
   "metadata": {},
   "outputs": [],
   "source": [
    "producer.config['binance'].get('symbols', 'btcusdt@trade')"
   ]
  },
  {
   "cell_type": "code",
   "execution_count": null,
   "metadata": {},
   "outputs": [],
   "source": [
    "consumer._setup_logging()"
   ]
  },
  {
   "cell_type": "code",
   "execution_count": null,
   "metadata": {},
   "outputs": [],
   "source": [
    "# self._setup_logging()\n",
    "consumer._setup_kafka_consumer()\n",
    "# self._setup_kafka_producer()\n",
    "# self._setup_symbol_mapping()"
   ]
  },
  {
   "cell_type": "code",
   "execution_count": 11,
   "metadata": {},
   "outputs": [],
   "source": [
    "consumer._setup_kafka_producer()"
   ]
  },
  {
   "cell_type": "code",
   "execution_count": 4,
   "metadata": {},
   "outputs": [],
   "source": [
    "try:\n",
    "    await producer.start_streaming()\n",
    "except KeyboardInterrupt:\n",
    "    producer.logger.info(\"Received shutdown signal\")"
   ]
  },
  {
   "cell_type": "code",
   "execution_count": 3,
   "metadata": {},
   "outputs": [],
   "source": [
    "import json\n",
    "import yaml\n",
    "import logging\n",
    "from kafka import KafkaConsumer, KafkaProducer\n",
    "from typing import Dict, Any\n",
    "\n",
    "\n",
    "def setup_logging(config: Dict[str, Any]) -> logging.Logger:\n",
    "    \"\"\"Configure and return logger\"\"\"\n",
    "    logging.basicConfig(\n",
    "        level=config['logging']['level'],\n",
    "        format=config['logging']['format'],\n",
    "        filename=config['logging']['file']\n",
    "    )\n",
    "    logger = logging.getLogger('ForexKafkaConsumer')\n",
    "    return logger\n",
    "\n",
    "\n",
    "def setup_kafka_consumer(config: Dict[str, Any], logger: logging.Logger) -> KafkaConsumer:\n",
    "    \"\"\"Initialize Kafka consumer\"\"\"\n",
    "    try:\n",
    "        consumer = KafkaConsumer(\n",
    "            config['topics']['raw_data'],\n",
    "            bootstrap_servers=config['kafka']['bootstrap_servers'],\n",
    "            value_deserializer=lambda m: json.loads(m.decode('utf-8')),\n",
    "            **config['kafka']['consumer_config']\n",
    "        )\n",
    "        logger.info(\"Kafka consumer initialized successfully\")\n",
    "        return consumer\n",
    "    except Exception as e:\n",
    "        logger.error(f\"Failed to initialize Kafka consumer: {str(e)}\")\n",
    "        raise\n",
    "\n",
    "\n",
    "def setup_kafka_producer(config: Dict[str, Any], logger: logging.Logger) -> KafkaProducer:\n",
    "    \"\"\"Initialize Kafka producer for filtered streams\"\"\"\n",
    "    try:\n",
    "        producer = KafkaProducer(\n",
    "            bootstrap_servers=config['kafka']['bootstrap_servers'],\n",
    "            value_serializer=lambda v: json.dumps(v).encode('utf-8'),\n",
    "            **config['kafka']['producer_config']\n",
    "        )\n",
    "        logger.info(\"Kafka producer initialized successfully\")\n",
    "        return producer\n",
    "    except Exception as e:\n",
    "        logger.error(f\"Failed to initialize Kafka producer: {str(e)}\")\n",
    "        raise\n",
    "\n",
    "\n",
    "def setup_symbol_mapping(config: Dict[str, Any]) -> Dict[str, str]:\n",
    "    \"\"\"Create mapping of symbols to their respective topics\"\"\"\n",
    "    return {\n",
    "        pair['symbol'].lower(): pair['topic']\n",
    "        for pair in config['topics']['currency_pairs']\n",
    "    }\n",
    "\n",
    "\n",
    "def process_message(\n",
    "    message: Dict[str, Any],\n",
    "    symbol_topics: Dict[str, str],\n",
    "    producer: KafkaProducer,\n",
    "    logger: logging.Logger\n",
    "):\n",
    "    \"\"\"Process individual message and produce to appropriate topic\"\"\"\n",
    "    try:\n",
    "        symbol = message.get('s', '').lower()\n",
    "\n",
    "        if symbol in symbol_topics:\n",
    "            # Transform message for downstream processing\n",
    "            processed_data = {\n",
    "                'symbol': symbol,\n",
    "                'price': float(message.get('p', 0)),\n",
    "                'quantity': float(message.get('q', 0)),\n",
    "                'timestamp': message.get('T', 0),\n",
    "                'processing_timestamp': message.get('processing_timestamp')\n",
    "            }\n",
    "\n",
    "            # Produce to symbol-specific topic\n",
    "            producer.send(\n",
    "                symbol_topics[symbol],\n",
    "                value=processed_data\n",
    "            )\n",
    "            logger.debug(f\"Processed message for symbol {symbol}\")\n",
    "    except Exception as e:\n",
    "        logger.error(f\"Error processing message: {str(e)}\")\n",
    "\n",
    "\n",
    "def start_consuming(config_path: str):\n",
    "    \"\"\"Main logic for consuming and processing messages\"\"\"\n",
    "    with open(config_path, 'r') as file:\n",
    "        config = yaml.safe_load(file)\n",
    "\n",
    "    logger = setup_logging(config)\n",
    "    consumer = setup_kafka_consumer(config, logger)\n",
    "    producer = setup_kafka_producer(config, logger)\n",
    "    symbol_topics = setup_symbol_mapping(config)\n",
    "\n",
    "    logger.info(\"Starting to consume messages\")\n",
    "    try:\n",
    "        for msg in consumer:\n",
    "            process_message(msg.value, symbol_topics, producer, logger)\n",
    "    except KeyboardInterrupt:\n",
    "        logger.info(\"Received shutdown signal\")\n",
    "    except Exception as e:\n",
    "        logger.error(f\"Unexpected error: {str(e)}\")\n",
    "    finally:\n",
    "        shutdown(consumer, producer, logger)\n",
    "\n",
    "\n",
    "def shutdown(consumer: KafkaConsumer, producer: KafkaProducer, logger: logging.Logger):\n",
    "    \"\"\"Clean shutdown of consumer and producer\"\"\"\n",
    "    try:\n",
    "        consumer.close()\n",
    "        producer.flush()\n",
    "        producer.close()\n",
    "        logger.info(\"Consumer and producer shut down successfully\")\n",
    "    except Exception as e:\n",
    "        logger.error(f\"Error during shutdown: {str(e)}\")\n",
    "\n",
    "\n",
    "if __name__ == \"__main__\":\n",
    "    start_consuming('config.yaml')\n"
   ]
  },
  {
   "cell_type": "code",
   "execution_count": 4,
   "metadata": {},
   "outputs": [],
   "source": [
    "from kafka import KafkaConsumer\n",
    "from configs import kafka_config\n",
    "import json\n",
    "\n",
    "def safe_deserialize(data):\n",
    "    return json.loads(data.decode('utf-8')) if data else None\n",
    "\n",
    "consumer = KafkaConsumer(\n",
    "    bootstrap_servers=kafka_config['bootstrap_servers'],\n",
    "    security_protocol=kafka_config['security_protocol'],\n",
    "    sasl_mechanism=kafka_config['sasl_mechanism'],\n",
    "    sasl_plain_username=kafka_config['username'],\n",
    "    sasl_plain_password=kafka_config['password'],\n",
    "    value_deserializer=safe_deserialize,\n",
    "    key_deserializer=safe_deserialize,\n",
    "    auto_offset_reset='earliest',\n",
    "    enable_auto_commit=True,\n",
    "    group_id='my_consumer_group_1'\n",
    ")\n",
    "\n",
    "topic_name = \"currency_raw_data\"\n",
    "\n",
    "consumer.subscribe([topic_name])\n",
    "\n",
    "print(f\"Subscribed to topic '{topic_name}'\")\n",
    "\n",
    "try:\n",
    "    for message in consumer:\n",
    "        print(f\"Raw Kafka message: {message}\")\n",
    "        print(f\"Message key: {message.key}, Message value: {message.value}\")\n",
    "\n",
    "        data = message.value\n",
    "        if data:\n",
    "            print(f\"Deserialized value: {data}\")\n",
    "        else:\n",
    "            print(\"Message value is None or could not be deserialized.\")\n",
    "\n",
    "        # Ваші додаткові обробки тут\n",
    "        # time.sleep(1)\n",
    "\n",
    "except Exception as e:\n",
    "    print(f\"An error occurred: {e}\")\n",
    "finally:\n",
    "    consumer.close()\n"
   ]
  },
  {
   "cell_type": "code",
   "execution_count": 6,
   "metadata": {},
   "outputs": [],
   "source": [
    "import datetime\n",
    "import uuid\n",
    "\n",
    "from pyspark.sql.functions import *\n",
    "from pyspark.sql.types import StructType, StructField, IntegerType, DoubleType\n",
    "from pyspark.sql import SparkSession\n",
    "from configs import kafka_config\n",
    "import os\n",
    "\n",
    "os.environ[\n",
    "    'PYSPARK_SUBMIT_ARGS'] = '--packages org.apache.spark:spark-streaming-kafka-0-10_2.12:3.5.1,org.apache.spark:spark-sql-kafka-0-10_2.12:3.5.1 pyspark-shell'\n",
    "\n",
    "spark = (SparkSession.builder\n",
    "         .appName(\"KafkaStreaming\")\n",
    "         .master(\"local[*]\")\n",
    "         .config(\"spark.sql.debug.maxToStringFields\", \"200\")\n",
    "         .config(\"spark.sql.columnNameLengthThreshold\", \"200\")\n",
    "         .getOrCreate())\n"
   ]
  },
  {
   "cell_type": "code",
   "execution_count": 7,
   "metadata": {},
   "outputs": [],
   "source": [
    "import yaml\n",
    "import logging\n",
    "from pyspark.sql import SparkSession\n",
    "from pyspark.sql.functions import (\n",
    "    window, avg, min, max, stddev, count,\n",
    "    percentile_approx, col, from_json, struct\n",
    ")\n",
    "from pyspark.sql.types import (\n",
    "    StructType, StructField, StringType,\n",
    "    DoubleType, LongType, TimestampType\n",
    ")\n",
    "\n",
    "class ForexSparkStreamProcessor:\n",
    "    \"\"\"\n",
    "    Spark Streaming processor for aggregating forex data\n",
    "    \"\"\"\n",
    "    \n",
    "    def __init__(self, config_path: str):\n",
    "        \"\"\"Initialize Spark Streaming processor with configuration\"\"\"\n",
    "        with open(config_path, 'r') as file:\n",
    "            self.config = yaml.safe_load(file)\n",
    "        \n",
    "        self._setup_logging()\n",
    "        self._setup_spark()\n",
    "        self._setup_schema()\n",
    "    \n",
    "    def _setup_logging(self):\n",
    "        \"\"\"Configure logging\"\"\"\n",
    "        logging.basicConfig(\n",
    "            level=self.config['logging']['level'],\n",
    "            format=self.config['logging']['format'],\n",
    "            filename=self.config['logging']['file']\n",
    "        )\n",
    "        self.logger = logging.getLogger('ForexSparkStreamProcessor')\n",
    "    \n",
    "    def _setup_spark(self):\n",
    "        \"\"\"Initialize Spark session\"\"\"\n",
    "        try:\n",
    "            self.spark = (SparkSession.builder\n",
    "                .appName(self.config['spark']['app_name'])\n",
    "                .master(self.config['spark']['master'])\n",
    "                .config(\"spark.streaming.stopGracefullyOnShutdown\", \"true\")\n",
    "                .getOrCreate())\n",
    "            \n",
    "            self.logger.info(\"Spark session initialized successfully\")\n",
    "        except Exception as e:\n",
    "            self.logger.error(f\"Failed to initialize Spark session: {str(e)}\")\n",
    "            raise\n",
    "    \n",
    "    def _setup_schema(self):\n",
    "        \"\"\"Define schema for incoming data\"\"\"\n",
    "        self.schema = StructType([\n",
    "            StructField(\"symbol\", StringType(), True),\n",
    "            StructField(\"price\", DoubleType(), True),\n",
    "            StructField(\"quantity\", DoubleType(), True),\n",
    "            StructField(\"timestamp\", LongType(), True),\n",
    "            StructField(\"processing_timestamp\", StringType(), True)\n",
    "        ])\n",
    "    \n",
    "    def _create_streaming_query(self, topic: str):\n",
    "        \"\"\"Create and return streaming query for given topic\"\"\"\n",
    "        return (self.spark.readStream\n",
    "            .format(\"kafka\")\n",
    "            .option(\"kafka.bootstrap.servers\",\n",
    "                   self.config['kafka']['bootstrap_servers'])\n",
    "            .option(\"subscribe\", topic)\n",
    "            .option(\"startingOffsets\", \"latest\")\n",
    "            .load()\n",
    "            .select(from_json(\n",
    "                col(\"value\").cast(\"string\"),\n",
    "                self.schema\n",
    "            ).alias(\"data\"))\n",
    "            .select(\"data.*\"))\n",
    "    \n",
    "    def _process_stream(self, df, topic: str):\n",
    "        \"\"\"Process streaming dataframe with windowed aggregations\"\"\"\n",
    "        window_duration = self.config['spark']['window_duration']\n",
    "        slide_duration = self.config['spark']['slide_duration']\n",
    "        \n",
    "        # Calculate aggregations\n",
    "        aggregations = (df\n",
    "            .withWatermark(\"timestamp\", window_duration)\n",
    "            .groupBy(window(col(\"timestamp\"), window_duration, slide_duration))\n",
    "            .agg(\n",
    "                avg(\"price\").alias(\"avg_price\"),\n",
    "                min(\"price\").alias(\"min_price\"),\n",
    "                max(\"price\").alias(\"max_price\"),\n",
    "                stddev(\"price\").alias(\"price_stddev\"),\n",
    "                count(\"*\").alias(\"trade_count\"),\n",
    "                percentile_approx(\"price\", array(0.25, 0.5, 0.75), 100)\n",
    "                    .alias(\"price_percentiles\"),\n",
    "                avg(\"quantity\").alias(\"avg_quantity\"),\n",
    "                sum(\"quantity\").alias(\"total_volume\")\n",
    "            ))\n",
    "        \n",
    "        # Write results to console (modify for production)\n",
    "        query = (aggregations.writeStream\n",
    "            .outputMode(\"complete\")\n",
    "            .format(\"console\")\n",
    "            .option(\"truncate\", \"false\")\n",
    "            .option(\"numRows\", 100)\n",
    "            .trigger(processingTime=slide_duration)\n",
    "            .start())\n",
    "        \n",
    "        return query\n",
    "    \n",
    "    def start_processing(self, topic: str):\n",
    "        \"\"\"Start processing streams for given topic\"\"\"\n",
    "        try:\n",
    "            self.logger.info(f\"Starting stream processing for topic: {topic}\")\n",
    "            \n",
    "            # Create streaming dataframe\n",
    "            streaming_df = self._create_streaming_query(topic)\n",
    "            \n",
    "            # Process stream and get query\n",
    "            query = self._process_stream(streaming_df, topic)\n",
    "            \n",
    "            # Wait for query termination\n",
    "            query.awaitTermination()\n",
    "            \n",
    "        except Exception as e:\n",
    "            self.logger.error(f\"Error in stream processing: {str(e)}\")\n",
    "            raise\n",
    "        finally:\n",
    "            self.shutdown()\n",
    "    \n",
    "    def shutdown(self):\n",
    "        \"\"\"Clean shutdown of Spark session\"\"\"\n",
    "        try:\n",
    "            self.spark.stop()\n",
    "            self.logger.info(\"Spark session shut down successfully\")\n",
    "        except Exception as e:\n",
    "            self.logger.error(f\"Error during shutdown: {str(e)}\")\n",
    "\n",
    "def main():\n",
    "    \"\"\"Main entry point for Spark Streaming processor\"\"\"\n",
    "    processor = ForexSparkStreamProcessor('config.yaml')\n",
    "    \n",
    "    # Process BTCUSDT stream as example\n",
    "    topic = 'forex_btcusdt'\n",
    "    processor.start_processing(topic)\n",
    "\n",
    "if __name__ == \"__main__\":\n",
    "    main()"
   ]
  },
  {
   "cell_type": "code",
   "execution_count": 2,
   "metadata": {},
   "outputs": [],
   "source": [
    "import os\n",
    "import uuid\n",
    "from pyspark.sql import SparkSession\n",
    "from pyspark.sql.functions import *\n",
    "from pyspark.sql.types import (\n",
    "    StructType, StructField, StringType, DoubleType, LongType, BooleanType\n",
    ")\n",
    "from configs import kafka_config\n"
   ]
  },
  {
   "cell_type": "code",
   "execution_count": 3,
   "metadata": {},
   "outputs": [],
   "source": [
    "\n",
    "# Налаштування PySpark для використання Kafka\n",
    "os.environ[\n",
    "    'PYSPARK_SUBMIT_ARGS'] = '--packages org.apache.spark:spark-sql-kafka-0-10_2.12:3.5.1 pyspark-shell'\n"
   ]
  },
  {
   "cell_type": "code",
   "execution_count": 4,
   "metadata": {},
   "outputs": [
    {
     "name": "stderr",
     "output_type": "stream",
     "text": [
      "your 131072x1 screen size is bogus. expect trouble\n"
     ]
    },
    {
     "name": "stderr",
     "output_type": "stream",
     "text": [
      "24/11/23 14:09:49 WARN Utils: Your hostname, DESKTOP-1G0D7LM resolves to a loopback address: 127.0.1.1; using 10.255.255.254 instead (on interface lo)\n",
      "24/11/23 14:09:49 WARN Utils: Set SPARK_LOCAL_IP if you need to bind to another address\n"
     ]
    },
    {
     "name": "stdout",
     "output_type": "stream",
     "text": [
      ":: loading settings :: url = jar:file:/home/gamelt/spark/spark-3.5.1/assembly/target/scala-2.12/jars/ivy-2.5.1.jar!/org/apache/ivy/core/settings/ivysettings.xml\n"
     ]
    },
    {
     "name": "stderr",
     "output_type": "stream",
     "text": [
      "Ivy Default Cache set to: /home/gamelt/.ivy2/cache\n",
      "The jars for the packages stored in: /home/gamelt/.ivy2/jars\n",
      "org.apache.spark#spark-sql-kafka-0-10_2.12 added as a dependency\n",
      ":: resolving dependencies :: org.apache.spark#spark-submit-parent-f213e750-c6c5-48b8-b88c-58c3ca2f375c;1.0\n",
      "\tconfs: [default]\n",
      "\tfound org.apache.spark#spark-sql-kafka-0-10_2.12;3.5.1 in central\n",
      "\tfound org.apache.spark#spark-token-provider-kafka-0-10_2.12;3.5.1 in central\n",
      "\tfound org.apache.kafka#kafka-clients;3.4.1 in central\n",
      "\tfound org.lz4#lz4-java;1.8.0 in local-m2-cache\n",
      "\tfound org.xerial.snappy#snappy-java;1.1.10.3 in local-m2-cache\n",
      "\tfound org.slf4j#slf4j-api;2.0.7 in local-m2-cache\n",
      "\tfound org.apache.hadoop#hadoop-client-runtime;3.3.4 in local-m2-cache\n",
      "\tfound org.apache.hadoop#hadoop-client-api;3.3.4 in local-m2-cache\n",
      "\tfound commons-logging#commons-logging;1.1.3 in local-m2-cache\n",
      "\tfound com.google.code.findbugs#jsr305;3.0.0 in local-m2-cache\n",
      "\tfound org.apache.commons#commons-pool2;2.11.1 in central\n",
      ":: resolution report :: resolve 6180ms :: artifacts dl 276ms\n",
      "\t:: modules in use:\n",
      "\tcom.google.code.findbugs#jsr305;3.0.0 from local-m2-cache in [default]\n",
      "\tcommons-logging#commons-logging;1.1.3 from local-m2-cache in [default]\n",
      "\torg.apache.commons#commons-pool2;2.11.1 from central in [default]\n",
      "\torg.apache.hadoop#hadoop-client-api;3.3.4 from local-m2-cache in [default]\n",
      "\torg.apache.hadoop#hadoop-client-runtime;3.3.4 from local-m2-cache in [default]\n",
      "\torg.apache.kafka#kafka-clients;3.4.1 from central in [default]\n",
      "\torg.apache.spark#spark-sql-kafka-0-10_2.12;3.5.1 from central in [default]\n",
      "\torg.apache.spark#spark-token-provider-kafka-0-10_2.12;3.5.1 from central in [default]\n",
      "\torg.lz4#lz4-java;1.8.0 from local-m2-cache in [default]\n",
      "\torg.slf4j#slf4j-api;2.0.7 from local-m2-cache in [default]\n",
      "\torg.xerial.snappy#snappy-java;1.1.10.3 from local-m2-cache in [default]\n",
      "\t---------------------------------------------------------------------\n",
      "\t|                  |            modules            ||   artifacts   |\n",
      "\t|       conf       | number| search|dwnlded|evicted|| number|dwnlded|\n",
      "\t---------------------------------------------------------------------\n",
      "\t|      default     |   11  |   0   |   0   |   0   ||   11  |   0   |\n",
      "\t---------------------------------------------------------------------\n",
      ":: retrieving :: org.apache.spark#spark-submit-parent-f213e750-c6c5-48b8-b88c-58c3ca2f375c\n",
      "\tconfs: [default]\n",
      "\t0 artifacts copied, 11 already retrieved (0kB/121ms)\n",
      "24/11/23 14:10:00 WARN NativeCodeLoader: Unable to load native-hadoop library for your platform... using builtin-java classes where applicable\n",
      "Setting default log level to \"WARN\".\n",
      "To adjust logging level use sc.setLogLevel(newLevel). For SparkR, use setLogLevel(newLevel).\n"
     ]
    }
   ],
   "source": [
    "\n",
    "# Ініціалізація SparkSession\n",
    "spark = (SparkSession.builder\n",
    "         .appName(\"ForexSparkStreamProcessor\")\n",
    "         .master(\"local[*]\")\n",
    "         .config(\"spark.sql.debug.maxToStringFields\", \"200\")\n",
    "         .config(\"spark.sql.columnNameLengthThreshold\", \"200\")\n",
    "         .config(\"spark.streaming.stopGracefullyOnShutdown\", \"true\")\n",
    "         .config(\"spark.executor.memory\", \"4g\")\n",
    "         .config(\"spark.executor.cores\", \"4\")\n",
    "         .getOrCreate())\n"
   ]
  },
  {
   "cell_type": "code",
   "execution_count": 5,
   "metadata": {},
   "outputs": [],
   "source": [
    "\n",
    "# Налаштування параметрів вікна\n",
    "window_duration = \"1 minute\"\n",
    "sliding_interval = \"30 seconds\"\n"
   ]
  },
  {
   "cell_type": "code",
   "execution_count": 6,
   "metadata": {},
   "outputs": [],
   "source": [
    "\n",
    "# Схема вхідних даних\n",
    "schema = StructType([\n",
    "    StructField(\"event_type\", StringType(), True),\n",
    "    StructField(\"event_time\", LongType(), True),\n",
    "    StructField(\"symbol\", StringType(), True),\n",
    "    StructField(\"trade_id\", LongType(), True),\n",
    "    StructField(\"price\", DoubleType(), True),\n",
    "    StructField(\"quantity\", DoubleType(), True),\n",
    "    StructField(\"trade_time\", LongType(), True),\n",
    "    StructField(\"buyer_market_maker\", BooleanType(), True),\n",
    "    StructField(\"ignore\", BooleanType(), True)\n",
    "])\n"
   ]
  },
  {
   "cell_type": "code",
   "execution_count": 7,
   "metadata": {},
   "outputs": [],
   "source": [
    "\n",
    "# Зчитування потоку з Kafka\n",
    "df = (spark.readStream\n",
    "      .format(\"kafka\")\n",
    "      .option(\"kafka.bootstrap.servers\", kafka_config['bootstrap_servers'][0])\n",
    "      .option(\"kafka.security.protocol\", \"SASL_PLAINTEXT\")\n",
    "      .option(\"kafka.sasl.mechanism\", \"PLAIN\")\n",
    "      .option(\"kafka.sasl.jaas.config\",\n",
    "              'org.apache.kafka.common.security.plain.PlainLoginModule required username=\"admin\" password=\"VawEzo1ikLtrA8Ug8THa\";')\n",
    "      .option(\"subscribe\", 'topic_XRPUSDT')\n",
    "      .option(\"startingOffsets\", \"latest\")\n",
    "      .option(\"maxOffsetsPerTrigger\", \"500\")  # Обмеження кількості даних на тригер\n",
    "      .load())\n"
   ]
  },
  {
   "cell_type": "code",
   "execution_count": 8,
   "metadata": {},
   "outputs": [],
   "source": [
    "\n",
    "# Обробка даних\n",
    "processed_df = (df\n",
    "                .select(from_json(col(\"value\").cast(\"string\"), schema).alias(\"data\"))\n",
    "                .select(\n",
    "                    col(\"data.symbol\"),\n",
    "                    col(\"data.price\"),\n",
    "                    col(\"data.quantity\"),\n",
    "                    col(\"data.trade_time\").alias(\"timestamp\")\n",
    "                )\n",
    "                .withColumn(\"event_time\", col(\"timestamp\").cast(\"timestamp\"))\n",
    "                .groupBy(window(col(\"event_time\"), window_duration, sliding_interval))\n",
    "                .agg(\n",
    "                    avg(\"price\").alias(\"avg_price\"),\n",
    "                    min(\"price\").alias(\"min_price\"),\n",
    "                    max(\"price\").alias(\"max_price\"),\n",
    "                    stddev(\"price\").alias(\"price_stddev\"),\n",
    "                    count(\"*\").alias(\"trade_count\"),\n",
    "                    avg(\"quantity\").alias(\"avg_quantity\"),\n",
    "                    sum(\"quantity\").alias(\"total_volume\"),\n",
    "                    percentile_approx(\"price\", array(lit(0.25), lit(0.5), lit(0.75)), 100).alias(\"price_percentiles\")\n",
    "                ))\n",
    "\n",
    "\n",
    "\n"
   ]
  },
  {
   "cell_type": "code",
   "execution_count": 9,
   "metadata": {},
   "outputs": [],
   "source": [
    "\n",
    "# Додавання ключа та підготовка до запису\n",
    "uuid_udf = udf(lambda: str(uuid.uuid4()), StringType())\n",
    "output_df = (processed_df\n",
    "             .withColumn(\"key\", uuid_udf())\n",
    "             .select(\n",
    "                 col(\"key\"),\n",
    "                 to_json(struct(\n",
    "                     col(\"window\"),\n",
    "                     col(\"avg_price\"),\n",
    "                     col(\"min_price\"),\n",
    "                     col(\"max_price\"),\n",
    "                     col(\"price_stddev\"),\n",
    "                     col(\"trade_count\"),\n",
    "                     col(\"avg_quantity\"),\n",
    "                     col(\"total_volume\"),\n",
    "                     col(\"price_percentiles\")\n",
    "                 )).alias(\"value\")))\n"
   ]
  },
  {
   "cell_type": "code",
   "execution_count": 10,
   "metadata": {},
   "outputs": [
    {
     "name": "stderr",
     "output_type": "stream",
     "text": [
      "24/11/23 14:10:20 WARN ResolveWriteToStream: Temporary checkpoint location created which is deleted normally when the query didn't fail: /tmp/temporary-22627654-b905-4d09-b37e-d034863f03a0. If it's required to delete it under any circumstances, please set spark.sql.streaming.forceDeleteTempCheckpointLocation to true. Important to know deleting temp checkpoint folder is best effort.\n",
      "24/11/23 14:10:20 WARN ResolveWriteToStream: spark.sql.adaptive.enabled is not supported in streaming DataFrames/Datasets and will be disabled.\n"
     ]
    }
   ],
   "source": [
    "\n",
    "# Вивід у консоль для дебагінгу\n",
    "console_query = (processed_df\n",
    "                 .writeStream\n",
    "                 .trigger(processingTime=\"30 seconds\")  # Інтервал тригера\n",
    "                 .outputMode(\"update\")  # Для потокових даних\n",
    "                 .format(\"console\")\n",
    "                 .option(\"truncate\", \"false\")  # Повний вивід без обрізання\n",
    "                 .option(\"numRows\", 50)  # Кількість рядків для відображення\n",
    "                 .start())\n"
   ]
  },
  {
   "cell_type": "code",
   "execution_count": 11,
   "metadata": {},
   "outputs": [
    {
     "name": "stderr",
     "output_type": "stream",
     "text": [
      "24/11/23 14:10:22 WARN ResolveWriteToStream: spark.sql.adaptive.enabled is not supported in streaming DataFrames/Datasets and will be disabled.\n"
     ]
    }
   ],
   "source": [
    "\n",
    "# Запис у Kafka\n",
    "kafka_query = (output_df\n",
    "               .writeStream\n",
    "               .trigger(processingTime=\"60 seconds\")  # Збільшено інтервал тригера для зменшення навантаження\n",
    "               .outputMode(\"update\")\n",
    "               .format(\"kafka\")\n",
    "               .option(\"kafka.bootstrap.servers\", kafka_config['bootstrap_servers'][0])\n",
    "               .option(\"topic\", 'output_topic')\n",
    "               .option(\"kafka.security.protocol\", \"SASL_PLAINTEXT\")\n",
    "               .option(\"kafka.sasl.mechanism\", \"PLAIN\")\n",
    "               .option(\"kafka.sasl.jaas.config\",\n",
    "                       'org.apache.kafka.common.security.plain.PlainLoginModule required username=\"admin\" password=\"VawEzo1ikLtrA8Ug8THa\";')\n",
    "               .option(\"checkpointLocation\", \"/tmp/spark_checkpoints\")\n",
    "               .start())\n"
   ]
  },
  {
   "cell_type": "code",
   "execution_count": null,
   "metadata": {},
   "outputs": [
    {
     "name": "stderr",
     "output_type": "stream",
     "text": [
      "24/11/23 14:10:26 WARN AdminClientConfig: These configurations '[key.deserializer, value.deserializer, enable.auto.commit, max.poll.records, auto.offset.reset]' were supplied but are not used yet.\n",
      "                                                                                \r"
     ]
    },
    {
     "name": "stdout",
     "output_type": "stream",
     "text": [
      "-------------------------------------------\n",
      "Batch: 0\n",
      "-------------------------------------------\n"
     ]
    },
    {
     "name": "stderr",
     "output_type": "stream",
     "text": [
      "[Stage 3:>                                                        (0 + 8) / 200]\r"
     ]
    },
    {
     "name": "stdout",
     "output_type": "stream",
     "text": [
      "+------+---------+---------+---------+------------+-----------+------------+------------+-----------------+\n",
      "|window|avg_price|min_price|max_price|price_stddev|trade_count|avg_quantity|total_volume|price_percentiles|\n",
      "+------+---------+---------+---------+------------+-----------+------------+------------+-----------------+\n",
      "+------+---------+---------+---------+------------+-----------+------------+------------+-----------------+\n",
      "\n"
     ]
    },
    {
     "name": "stderr",
     "output_type": "stream",
     "text": [
      "24/11/23 14:11:16 WARN ProcessingTimeExecutor: Current batch is falling behind. The trigger interval is 30000 milliseconds, but spent 54462 milliseconds\n",
      "24/11/23 14:12:19 WARN ProcessingTimeExecutor: Current batch is falling behind. The trigger interval is 60000 milliseconds, but spent 117084 milliseconds\n",
      "24/11/23 14:12:19 WARN AdminClientConfig: These configurations '[key.deserializer, value.deserializer, enable.auto.commit, max.poll.records, auto.offset.reset]' were supplied but are not used yet.\n",
      "24/11/23 14:12:22 ERROR MicroBatchExecution: Query [id = 941a8fae-723e-499c-b204-d4b09a9676a7, runId = 0cbd9288-2720-448d-a5ba-4541e4b7b96b] terminated with error\n",
      "java.lang.IllegalStateException: Set(currency_raw_data-0) are gone. Some data may have been missed.. \n",
      "Some data may have been lost because they are not available in Kafka any more; either the\n",
      " data was aged out by Kafka or the topic may have been deleted before all the data in the\n",
      " topic was processed. If you don't want your streaming query to fail on such cases, set the\n",
      " source option \"failOnDataLoss\" to \"false\".\n",
      "    \n",
      "\tat org.apache.spark.sql.kafka010.KafkaMicroBatchStream.reportDataLoss(KafkaMicroBatchStream.scala:309)\n",
      "\tat org.apache.spark.sql.kafka010.KafkaMicroBatchStream.$anonfun$planInputPartitions$1(KafkaMicroBatchStream.scala:201)\n",
      "\tat org.apache.spark.sql.kafka010.KafkaMicroBatchStream.$anonfun$planInputPartitions$1$adapted(KafkaMicroBatchStream.scala:201)\n",
      "\tat org.apache.spark.sql.kafka010.KafkaOffsetReaderAdmin.getOffsetRangesFromResolvedOffsets(KafkaOffsetReaderAdmin.scala:469)\n",
      "\tat org.apache.spark.sql.kafka010.KafkaMicroBatchStream.planInputPartitions(KafkaMicroBatchStream.scala:201)\n",
      "\tat org.apache.spark.sql.execution.datasources.v2.MicroBatchScanExec.inputPartitions$lzycompute(MicroBatchScanExec.scala:46)\n",
      "\tat org.apache.spark.sql.execution.datasources.v2.MicroBatchScanExec.inputPartitions(MicroBatchScanExec.scala:46)\n",
      "\tat org.apache.spark.sql.execution.datasources.v2.DataSourceV2ScanExecBase.supportsColumnar(DataSourceV2ScanExecBase.scala:179)\n",
      "\tat org.apache.spark.sql.execution.datasources.v2.DataSourceV2ScanExecBase.supportsColumnar$(DataSourceV2ScanExecBase.scala:175)\n",
      "\tat org.apache.spark.sql.execution.datasources.v2.MicroBatchScanExec.supportsColumnar(MicroBatchScanExec.scala:29)\n",
      "\tat org.apache.spark.sql.execution.datasources.v2.DataSourceV2Strategy.apply(DataSourceV2Strategy.scala:157)\n",
      "\tat org.apache.spark.sql.catalyst.planning.QueryPlanner.$anonfun$plan$1(QueryPlanner.scala:63)\n",
      "\tat scala.collection.Iterator$$anon$11.nextCur(Iterator.scala:486)\n",
      "\tat scala.collection.Iterator$$anon$11.hasNext(Iterator.scala:492)\n",
      "\tat scala.collection.Iterator$$anon$11.hasNext(Iterator.scala:491)\n",
      "\tat org.apache.spark.sql.catalyst.planning.QueryPlanner.plan(QueryPlanner.scala:93)\n",
      "\tat org.apache.spark.sql.execution.SparkStrategies.plan(SparkStrategies.scala:70)\n",
      "\tat org.apache.spark.sql.catalyst.planning.QueryPlanner.$anonfun$plan$3(QueryPlanner.scala:78)\n",
      "\tat scala.collection.TraversableOnce$folder$1.apply(TraversableOnce.scala:196)\n",
      "\tat scala.collection.TraversableOnce$folder$1.apply(TraversableOnce.scala:194)\n",
      "\tat scala.collection.Iterator.foreach(Iterator.scala:943)\n",
      "\tat scala.collection.Iterator.foreach$(Iterator.scala:943)\n",
      "\tat scala.collection.AbstractIterator.foreach(Iterator.scala:1431)\n",
      "\tat scala.collection.TraversableOnce.foldLeft(TraversableOnce.scala:199)\n",
      "\tat scala.collection.TraversableOnce.foldLeft$(TraversableOnce.scala:192)\n",
      "\tat scala.collection.AbstractIterator.foldLeft(Iterator.scala:1431)\n",
      "\tat org.apache.spark.sql.catalyst.planning.QueryPlanner.$anonfun$plan$2(QueryPlanner.scala:75)\n",
      "\tat scala.collection.Iterator$$anon$11.nextCur(Iterator.scala:486)\n",
      "\tat scala.collection.Iterator$$anon$11.hasNext(Iterator.scala:492)\n",
      "\tat org.apache.spark.sql.catalyst.planning.QueryPlanner.plan(QueryPlanner.scala:93)\n",
      "\tat org.apache.spark.sql.execution.SparkStrategies.plan(SparkStrategies.scala:70)\n",
      "\tat org.apache.spark.sql.catalyst.planning.QueryPlanner.$anonfun$plan$3(QueryPlanner.scala:78)\n",
      "\tat scala.collection.TraversableOnce$folder$1.apply(TraversableOnce.scala:196)\n",
      "\tat scala.collection.TraversableOnce$folder$1.apply(TraversableOnce.scala:194)\n",
      "\tat scala.collection.Iterator.foreach(Iterator.scala:943)\n",
      "\tat scala.collection.Iterator.foreach$(Iterator.scala:943)\n",
      "\tat scala.collection.AbstractIterator.foreach(Iterator.scala:1431)\n",
      "\tat scala.collection.TraversableOnce.foldLeft(TraversableOnce.scala:199)\n",
      "\tat scala.collection.TraversableOnce.foldLeft$(TraversableOnce.scala:192)\n",
      "\tat scala.collection.AbstractIterator.foldLeft(Iterator.scala:1431)\n",
      "\tat org.apache.spark.sql.catalyst.planning.QueryPlanner.$anonfun$plan$2(QueryPlanner.scala:75)\n",
      "\tat scala.collection.Iterator$$anon$11.nextCur(Iterator.scala:486)\n",
      "\tat scala.collection.Iterator$$anon$11.hasNext(Iterator.scala:492)\n",
      "\tat org.apache.spark.sql.catalyst.planning.QueryPlanner.plan(QueryPlanner.scala:93)\n",
      "\tat org.apache.spark.sql.execution.SparkStrategies.plan(SparkStrategies.scala:70)\n",
      "\tat org.apache.spark.sql.catalyst.planning.QueryPlanner.$anonfun$plan$3(QueryPlanner.scala:78)\n",
      "\tat scala.collection.TraversableOnce$folder$1.apply(TraversableOnce.scala:196)\n",
      "\tat scala.collection.TraversableOnce$folder$1.apply(TraversableOnce.scala:194)\n",
      "\tat scala.collection.Iterator.foreach(Iterator.scala:943)\n",
      "\tat scala.collection.Iterator.foreach$(Iterator.scala:943)\n",
      "\tat scala.collection.AbstractIterator.foreach(Iterator.scala:1431)\n",
      "\tat scala.collection.TraversableOnce.foldLeft(TraversableOnce.scala:199)\n",
      "\tat scala.collection.TraversableOnce.foldLeft$(TraversableOnce.scala:192)\n",
      "\tat scala.collection.AbstractIterator.foldLeft(Iterator.scala:1431)\n",
      "\tat org.apache.spark.sql.catalyst.planning.QueryPlanner.$anonfun$plan$2(QueryPlanner.scala:75)\n",
      "\tat scala.collection.Iterator$$anon$11.nextCur(Iterator.scala:486)\n",
      "\tat scala.collection.Iterator$$anon$11.hasNext(Iterator.scala:492)\n",
      "\tat org.apache.spark.sql.catalyst.planning.QueryPlanner.plan(QueryPlanner.scala:93)\n",
      "\tat org.apache.spark.sql.execution.SparkStrategies.plan(SparkStrategies.scala:70)\n",
      "\tat org.apache.spark.sql.catalyst.planning.QueryPlanner.$anonfun$plan$3(QueryPlanner.scala:78)\n",
      "\tat scala.collection.TraversableOnce$folder$1.apply(TraversableOnce.scala:196)\n",
      "\tat scala.collection.TraversableOnce$folder$1.apply(TraversableOnce.scala:194)\n",
      "\tat scala.collection.Iterator.foreach(Iterator.scala:943)\n",
      "\tat scala.collection.Iterator.foreach$(Iterator.scala:943)\n",
      "\tat scala.collection.AbstractIterator.foreach(Iterator.scala:1431)\n",
      "\tat scala.collection.TraversableOnce.foldLeft(TraversableOnce.scala:199)\n",
      "\tat scala.collection.TraversableOnce.foldLeft$(TraversableOnce.scala:192)\n",
      "\tat scala.collection.AbstractIterator.foldLeft(Iterator.scala:1431)\n",
      "\tat org.apache.spark.sql.catalyst.planning.QueryPlanner.$anonfun$plan$2(QueryPlanner.scala:75)\n",
      "\tat scala.collection.Iterator$$anon$11.nextCur(Iterator.scala:486)\n",
      "\tat scala.collection.Iterator$$anon$11.hasNext(Iterator.scala:492)\n",
      "\tat org.apache.spark.sql.catalyst.planning.QueryPlanner.plan(QueryPlanner.scala:93)\n",
      "\tat org.apache.spark.sql.execution.SparkStrategies.plan(SparkStrategies.scala:70)\n",
      "\tat org.apache.spark.sql.catalyst.planning.QueryPlanner.$anonfun$plan$3(QueryPlanner.scala:78)\n",
      "\tat scala.collection.TraversableOnce$folder$1.apply(TraversableOnce.scala:196)\n",
      "\tat scala.collection.TraversableOnce$folder$1.apply(TraversableOnce.scala:194)\n",
      "\tat scala.collection.Iterator.foreach(Iterator.scala:943)\n",
      "\tat scala.collection.Iterator.foreach$(Iterator.scala:943)\n",
      "\tat scala.collection.AbstractIterator.foreach(Iterator.scala:1431)\n",
      "\tat scala.collection.TraversableOnce.foldLeft(TraversableOnce.scala:199)\n",
      "\tat scala.collection.TraversableOnce.foldLeft$(TraversableOnce.scala:192)\n",
      "\tat scala.collection.AbstractIterator.foldLeft(Iterator.scala:1431)\n",
      "\tat org.apache.spark.sql.catalyst.planning.QueryPlanner.$anonfun$plan$2(QueryPlanner.scala:75)\n",
      "\tat scala.collection.Iterator$$anon$11.nextCur(Iterator.scala:486)\n",
      "\tat scala.collection.Iterator$$anon$11.hasNext(Iterator.scala:492)\n",
      "\tat org.apache.spark.sql.catalyst.planning.QueryPlanner.plan(QueryPlanner.scala:93)\n",
      "\tat org.apache.spark.sql.execution.SparkStrategies.plan(SparkStrategies.scala:70)\n",
      "\tat org.apache.spark.sql.catalyst.planning.QueryPlanner.$anonfun$plan$3(QueryPlanner.scala:78)\n",
      "\tat scala.collection.TraversableOnce$folder$1.apply(TraversableOnce.scala:196)\n",
      "\tat scala.collection.TraversableOnce$folder$1.apply(TraversableOnce.scala:194)\n",
      "\tat scala.collection.Iterator.foreach(Iterator.scala:943)\n",
      "\tat scala.collection.Iterator.foreach$(Iterator.scala:943)\n",
      "\tat scala.collection.AbstractIterator.foreach(Iterator.scala:1431)\n",
      "\tat scala.collection.TraversableOnce.foldLeft(TraversableOnce.scala:199)\n",
      "\tat scala.collection.TraversableOnce.foldLeft$(TraversableOnce.scala:192)\n",
      "\tat scala.collection.AbstractIterator.foldLeft(Iterator.scala:1431)\n",
      "\tat org.apache.spark.sql.catalyst.planning.QueryPlanner.$anonfun$plan$2(QueryPlanner.scala:75)\n",
      "\tat scala.collection.Iterator$$anon$11.nextCur(Iterator.scala:486)\n",
      "\tat scala.collection.Iterator$$anon$11.hasNext(Iterator.scala:492)\n",
      "\tat org.apache.spark.sql.catalyst.planning.QueryPlanner.plan(QueryPlanner.scala:93)\n",
      "\tat org.apache.spark.sql.execution.SparkStrategies.plan(SparkStrategies.scala:70)\n",
      "\tat org.apache.spark.sql.catalyst.planning.QueryPlanner.$anonfun$plan$3(QueryPlanner.scala:78)\n",
      "\tat scala.collection.TraversableOnce$folder$1.apply(TraversableOnce.scala:196)\n",
      "\tat scala.collection.TraversableOnce$folder$1.apply(TraversableOnce.scala:194)\n",
      "\tat scala.collection.Iterator.foreach(Iterator.scala:943)\n",
      "\tat scala.collection.Iterator.foreach$(Iterator.scala:943)\n",
      "\tat scala.collection.AbstractIterator.foreach(Iterator.scala:1431)\n",
      "\tat scala.collection.TraversableOnce.foldLeft(TraversableOnce.scala:199)\n",
      "\tat scala.collection.TraversableOnce.foldLeft$(TraversableOnce.scala:192)\n",
      "\tat scala.collection.AbstractIterator.foldLeft(Iterator.scala:1431)\n",
      "\tat org.apache.spark.sql.catalyst.planning.QueryPlanner.$anonfun$plan$2(QueryPlanner.scala:75)\n",
      "\tat scala.collection.Iterator$$anon$11.nextCur(Iterator.scala:486)\n",
      "\tat scala.collection.Iterator$$anon$11.hasNext(Iterator.scala:492)\n",
      "\tat org.apache.spark.sql.catalyst.planning.QueryPlanner.plan(QueryPlanner.scala:93)\n",
      "\tat org.apache.spark.sql.execution.SparkStrategies.plan(SparkStrategies.scala:70)\n",
      "\tat org.apache.spark.sql.execution.QueryExecution$.createSparkPlan(QueryExecution.scala:496)\n",
      "\tat org.apache.spark.sql.execution.QueryExecution.$anonfun$sparkPlan$1(QueryExecution.scala:171)\n",
      "\tat org.apache.spark.sql.catalyst.QueryPlanningTracker.measurePhase(QueryPlanningTracker.scala:138)\n",
      "\tat org.apache.spark.sql.execution.QueryExecution.$anonfun$executePhase$2(QueryExecution.scala:219)\n",
      "\tat org.apache.spark.sql.execution.QueryExecution$.withInternalError(QueryExecution.scala:546)\n",
      "\tat org.apache.spark.sql.execution.QueryExecution.$anonfun$executePhase$1(QueryExecution.scala:219)\n",
      "\tat org.apache.spark.sql.SparkSession.withActive(SparkSession.scala:900)\n",
      "\tat org.apache.spark.sql.execution.QueryExecution.executePhase(QueryExecution.scala:218)\n",
      "\tat org.apache.spark.sql.execution.QueryExecution.sparkPlan$lzycompute(QueryExecution.scala:171)\n",
      "\tat org.apache.spark.sql.execution.QueryExecution.sparkPlan(QueryExecution.scala:164)\n",
      "\tat org.apache.spark.sql.execution.QueryExecution.$anonfun$executedPlan$1(QueryExecution.scala:186)\n",
      "\tat org.apache.spark.sql.catalyst.QueryPlanningTracker.measurePhase(QueryPlanningTracker.scala:138)\n",
      "\tat org.apache.spark.sql.execution.QueryExecution.$anonfun$executePhase$2(QueryExecution.scala:219)\n",
      "\tat org.apache.spark.sql.execution.QueryExecution$.withInternalError(QueryExecution.scala:546)\n",
      "\tat org.apache.spark.sql.execution.QueryExecution.$anonfun$executePhase$1(QueryExecution.scala:219)\n",
      "\tat org.apache.spark.sql.SparkSession.withActive(SparkSession.scala:900)\n",
      "\tat org.apache.spark.sql.execution.QueryExecution.executePhase(QueryExecution.scala:218)\n",
      "\tat org.apache.spark.sql.execution.QueryExecution.executedPlan$lzycompute(QueryExecution.scala:186)\n",
      "\tat org.apache.spark.sql.execution.QueryExecution.executedPlan(QueryExecution.scala:179)\n",
      "\tat org.apache.spark.sql.execution.streaming.MicroBatchExecution.$anonfun$runBatch$15(MicroBatchExecution.scala:720)\n",
      "\tat org.apache.spark.sql.execution.streaming.ProgressReporter.reportTimeTaken(ProgressReporter.scala:427)\n",
      "\tat org.apache.spark.sql.execution.streaming.ProgressReporter.reportTimeTaken$(ProgressReporter.scala:425)\n",
      "\tat org.apache.spark.sql.execution.streaming.StreamExecution.reportTimeTaken(StreamExecution.scala:67)\n",
      "\tat org.apache.spark.sql.execution.streaming.MicroBatchExecution.runBatch(MicroBatchExecution.scala:708)\n",
      "\tat org.apache.spark.sql.execution.streaming.MicroBatchExecution.$anonfun$runActivatedStream$2(MicroBatchExecution.scala:286)\n",
      "\tat scala.runtime.java8.JFunction0$mcV$sp.apply(JFunction0$mcV$sp.java:23)\n",
      "\tat org.apache.spark.sql.execution.streaming.ProgressReporter.reportTimeTaken(ProgressReporter.scala:427)\n",
      "\tat org.apache.spark.sql.execution.streaming.ProgressReporter.reportTimeTaken$(ProgressReporter.scala:425)\n",
      "\tat org.apache.spark.sql.execution.streaming.StreamExecution.reportTimeTaken(StreamExecution.scala:67)\n",
      "\tat org.apache.spark.sql.execution.streaming.MicroBatchExecution.$anonfun$runActivatedStream$1(MicroBatchExecution.scala:249)\n",
      "\tat org.apache.spark.sql.execution.streaming.ProcessingTimeExecutor.execute(TriggerExecutor.scala:67)\n",
      "\tat org.apache.spark.sql.execution.streaming.MicroBatchExecution.runActivatedStream(MicroBatchExecution.scala:239)\n",
      "\tat org.apache.spark.sql.execution.streaming.StreamExecution.$anonfun$runStream$1(StreamExecution.scala:311)\n",
      "\tat scala.runtime.java8.JFunction0$mcV$sp.apply(JFunction0$mcV$sp.java:23)\n",
      "\tat org.apache.spark.sql.SparkSession.withActive(SparkSession.scala:900)\n",
      "\tat org.apache.spark.sql.execution.streaming.StreamExecution.org$apache$spark$sql$execution$streaming$StreamExecution$$runStream(StreamExecution.scala:289)\n",
      "\tat org.apache.spark.sql.execution.streaming.StreamExecution$$anon$1.$anonfun$run$1(StreamExecution.scala:211)\n",
      "\tat scala.runtime.java8.JFunction0$mcV$sp.apply(JFunction0$mcV$sp.java:23)\n",
      "\tat org.apache.spark.JobArtifactSet$.withActiveJobArtifactState(JobArtifactSet.scala:94)\n",
      "\tat org.apache.spark.sql.execution.streaming.StreamExecution$$anon$1.run(StreamExecution.scala:211)\n",
      "                                                                                \r"
     ]
    },
    {
     "name": "stdout",
     "output_type": "stream",
     "text": [
      "-------------------------------------------\n",
      "Batch: 1\n",
      "-------------------------------------------\n",
      "+----------------------------------------------+---------+---------+---------+------------+-----------+------------+------------+------------------------+\n",
      "|window                                        |avg_price|min_price|max_price|price_stddev|trade_count|avg_quantity|total_volume|price_percentiles       |\n",
      "+----------------------------------------------+---------+---------+---------+------------+-----------+------------+------------+------------------------+\n",
      "|{+56866-05-23 09:56:30, +56866-05-23 09:57:30}|1.5491   |1.5491   |1.5491   |NULL        |1          |4.0         |4.0         |[1.5491, 1.5491, 1.5491]|\n",
      "|{+56866-05-23 09:57:00, +56866-05-23 09:58:00}|1.5491   |1.5491   |1.5491   |NULL        |1          |4.0         |4.0         |[1.5491, 1.5491, 1.5491]|\n",
      "+----------------------------------------------+---------+---------+---------+------------+-----------+------------+------------+------------------------+\n",
      "\n"
     ]
    },
    {
     "name": "stderr",
     "output_type": "stream",
     "text": [
      "24/11/23 14:12:47 WARN ProcessingTimeExecutor: Current batch is falling behind. The trigger interval is 30000 milliseconds, but spent 90771 milliseconds\n",
      "                                                                                \r"
     ]
    },
    {
     "name": "stdout",
     "output_type": "stream",
     "text": [
      "-------------------------------------------\n",
      "Batch: 2\n",
      "-------------------------------------------\n",
      "+----------------------------------------------+---------+---------+---------+------------+-----------+------------+------------+------------------------+\n",
      "|window                                        |avg_price|min_price|max_price|price_stddev|trade_count|avg_quantity|total_volume|price_percentiles       |\n",
      "+----------------------------------------------+---------+---------+---------+------------+-----------+------------+------------+------------------------+\n",
      "|{+56866-05-23 10:11:30, +56866-05-23 10:12:30}|1.5491   |1.5491   |1.5491   |NULL        |1          |45.0        |45.0        |[1.5491, 1.5491, 1.5491]|\n",
      "|{+56866-05-23 10:12:00, +56866-05-23 10:13:00}|1.5491   |1.5491   |1.5491   |NULL        |1          |45.0        |45.0        |[1.5491, 1.5491, 1.5491]|\n",
      "|{+56866-05-23 10:14:30, +56866-05-23 10:15:30}|1.5488   |1.5488   |1.5488   |0.0         |4          |311.25      |1245.0      |[1.5488, 1.5488, 1.5488]|\n",
      "|{+56866-05-23 10:14:00, +56866-05-23 10:15:00}|1.5489   |1.5489   |1.5489   |0.0         |2          |37.0        |74.0        |[1.5489, 1.5489, 1.5489]|\n",
      "|{+56866-05-23 10:15:00, +56866-05-23 10:16:00}|1.5488   |1.5488   |1.5488   |0.0         |4          |311.25      |1245.0      |[1.5488, 1.5488, 1.5488]|\n",
      "|{+56866-05-23 10:13:30, +56866-05-23 10:14:30}|1.5489   |1.5489   |1.5489   |0.0         |2          |37.0        |74.0        |[1.5489, 1.5489, 1.5489]|\n",
      "+----------------------------------------------+---------+---------+---------+------------+-----------+------------+------------+------------------------+\n",
      "\n"
     ]
    },
    {
     "name": "stderr",
     "output_type": "stream",
     "text": [
      "                                                                                \r"
     ]
    },
    {
     "name": "stdout",
     "output_type": "stream",
     "text": [
      "-------------------------------------------\n",
      "Batch: 3\n",
      "-------------------------------------------\n",
      "+----------------------------------------------+---------+---------+---------+------------+-----------+------------+------------+------------------------+\n",
      "|window                                        |avg_price|min_price|max_price|price_stddev|trade_count|avg_quantity|total_volume|price_percentiles       |\n",
      "+----------------------------------------------+---------+---------+---------+------------+-----------+------------+------------+------------------------+\n",
      "|{+56866-05-23 10:49:30, +56866-05-23 10:50:30}|1.5489   |1.5489   |1.5489   |0.0         |5          |240.0       |1200.0      |[1.5489, 1.5489, 1.5489]|\n",
      "|{+56866-05-23 10:49:00, +56866-05-23 10:50:00}|1.5489   |1.5489   |1.5489   |0.0         |5          |240.0       |1200.0      |[1.5489, 1.5489, 1.5489]|\n",
      "|{+56866-05-23 10:31:30, +56866-05-23 10:32:30}|1.5489   |1.5489   |1.5489   |0.0         |4          |150.0       |600.0       |[1.5489, 1.5489, 1.5489]|\n",
      "|{+56866-05-23 10:31:00, +56866-05-23 10:32:00}|1.5489   |1.5489   |1.5489   |0.0         |4          |150.0       |600.0       |[1.5489, 1.5489, 1.5489]|\n",
      "+----------------------------------------------+---------+---------+---------+------------+-----------+------------+------------+------------------------+\n",
      "\n"
     ]
    },
    {
     "name": "stderr",
     "output_type": "stream",
     "text": [
      "                                                                                \r"
     ]
    },
    {
     "name": "stdout",
     "output_type": "stream",
     "text": [
      "-------------------------------------------\n",
      "Batch: 4\n",
      "-------------------------------------------\n",
      "+----------------------------------------------+---------+---------+---------+------------+-----------+------------------+------------+------------------------+\n",
      "|window                                        |avg_price|min_price|max_price|price_stddev|trade_count|avg_quantity      |total_volume|price_percentiles       |\n",
      "+----------------------------------------------+---------+---------+---------+------------+-----------+------------------+------------+------------------------+\n",
      "|{+56866-05-23 10:58:00, +56866-05-23 10:59:00}|1.5489   |1.5489   |1.5489   |NULL        |1          |11.0              |11.0        |[1.5489, 1.5489, 1.5489]|\n",
      "|{+56866-05-23 10:49:30, +56866-05-23 10:50:30}|1.5489   |1.5489   |1.5489   |0.0         |12         |102.33333333333333|1228.0      |[1.5489, 1.5489, 1.5489]|\n",
      "|{+56866-05-23 11:16:30, +56866-05-23 11:17:30}|1.5489   |1.5489   |1.5489   |NULL        |1          |19.0              |19.0        |[1.5489, 1.5489, 1.5489]|\n",
      "|{+56866-05-23 11:22:00, +56866-05-23 11:23:00}|1.549    |1.549    |1.549    |NULL        |1          |315.0             |315.0       |[1.549, 1.549, 1.549]   |\n",
      "|{+56866-05-23 11:21:30, +56866-05-23 11:22:30}|1.549    |1.549    |1.549    |NULL        |1          |315.0             |315.0       |[1.549, 1.549, 1.549]   |\n",
      "|{+56866-05-23 11:17:00, +56866-05-23 11:18:00}|1.5489   |1.5489   |1.5489   |NULL        |1          |19.0              |19.0        |[1.5489, 1.5489, 1.5489]|\n",
      "|{+56866-05-23 10:57:30, +56866-05-23 10:58:30}|1.5489   |1.5489   |1.5489   |NULL        |1          |11.0              |11.0        |[1.5489, 1.5489, 1.5489]|\n",
      "|{+56866-05-23 11:11:00, +56866-05-23 11:12:00}|1.5489   |1.5489   |1.5489   |0.0         |3          |374.3333333333333 |1123.0      |[1.5489, 1.5489, 1.5489]|\n",
      "|{+56866-05-23 10:54:00, +56866-05-23 10:55:00}|1.549    |1.549    |1.549    |0.0         |2          |109.5             |219.0       |[1.549, 1.549, 1.549]   |\n",
      "|{+56866-05-23 11:10:30, +56866-05-23 11:11:30}|1.5489   |1.5489   |1.5489   |NULL        |1          |6.0               |6.0         |[1.5489, 1.5489, 1.5489]|\n",
      "|{+56866-05-23 11:11:30, +56866-05-23 11:12:30}|1.5489   |1.5489   |1.5489   |0.0         |3          |374.3333333333333 |1123.0      |[1.5489, 1.5489, 1.5489]|\n",
      "|{+56866-05-23 10:53:30, +56866-05-23 10:54:30}|1.549    |1.549    |1.549    |0.0         |2          |109.5             |219.0       |[1.549, 1.549, 1.549]   |\n",
      "|{+56866-05-23 10:49:00, +56866-05-23 10:50:00}|1.5489   |1.5489   |1.5489   |0.0         |12         |102.33333333333333|1228.0      |[1.5489, 1.5489, 1.5489]|\n",
      "|{+56866-05-23 11:15:30, +56866-05-23 11:16:30}|1.5489   |1.5489   |1.5489   |NULL        |1          |64.0              |64.0        |[1.5489, 1.5489, 1.5489]|\n",
      "|{+56866-05-23 11:16:00, +56866-05-23 11:17:00}|1.5489   |1.5489   |1.5489   |NULL        |1          |64.0              |64.0        |[1.5489, 1.5489, 1.5489]|\n",
      "|{+56866-05-23 11:10:00, +56866-05-23 11:11:00}|1.5489   |1.5489   |1.5489   |NULL        |1          |6.0               |6.0         |[1.5489, 1.5489, 1.5489]|\n",
      "+----------------------------------------------+---------+---------+---------+------------+-----------+------------------+------------+------------------------+\n",
      "\n"
     ]
    },
    {
     "name": "stderr",
     "output_type": "stream",
     "text": [
      "                                                                                \r"
     ]
    },
    {
     "name": "stdout",
     "output_type": "stream",
     "text": [
      "-------------------------------------------\n",
      "Batch: 5\n",
      "-------------------------------------------\n",
      "+----------------------------------------------+---------+---------+---------+------------+-----------+------------+------------+------------------------+\n",
      "|window                                        |avg_price|min_price|max_price|price_stddev|trade_count|avg_quantity|total_volume|price_percentiles       |\n",
      "+----------------------------------------------+---------+---------+---------+------------+-----------+------------+------------+------------------------+\n",
      "|{+56866-05-23 11:22:00, +56866-05-23 11:23:00}|1.549    |1.549    |1.549    |0.0         |2          |358.0       |716.0       |[1.549, 1.549, 1.549]   |\n",
      "|{+56866-05-23 11:21:30, +56866-05-23 11:22:30}|1.549    |1.549    |1.549    |0.0         |2          |358.0       |716.0       |[1.549, 1.549, 1.549]   |\n",
      "|{+56866-05-23 11:29:30, +56866-05-23 11:30:30}|1.549    |1.549    |1.549    |NULL        |1          |64.0        |64.0        |[1.549, 1.549, 1.549]   |\n",
      "|{+56866-05-23 11:26:00, +56866-05-23 11:27:00}|1.5489   |1.5489   |1.5489   |NULL        |1          |43.0        |43.0        |[1.5489, 1.5489, 1.5489]|\n",
      "|{+56866-05-23 11:25:00, +56866-05-23 11:26:00}|1.5489   |1.5489   |1.5489   |NULL        |1          |10.0        |10.0        |[1.5489, 1.5489, 1.5489]|\n",
      "|{+56866-05-23 11:24:30, +56866-05-23 11:25:30}|1.5489   |1.5489   |1.5489   |NULL        |1          |10.0        |10.0        |[1.5489, 1.5489, 1.5489]|\n",
      "|{+56866-05-23 11:29:00, +56866-05-23 11:30:00}|1.549    |1.549    |1.549    |NULL        |1          |64.0        |64.0        |[1.549, 1.549, 1.549]   |\n",
      "|{+56866-05-23 11:25:30, +56866-05-23 11:26:30}|1.5489   |1.5489   |1.5489   |NULL        |1          |43.0        |43.0        |[1.5489, 1.5489, 1.5489]|\n",
      "+----------------------------------------------+---------+---------+---------+------------+-----------+------------+------------+------------------------+\n",
      "\n"
     ]
    },
    {
     "name": "stderr",
     "output_type": "stream",
     "text": [
      "                                                                                \r"
     ]
    },
    {
     "name": "stdout",
     "output_type": "stream",
     "text": [
      "-------------------------------------------\n",
      "Batch: 6\n",
      "-------------------------------------------\n",
      "+----------------------------------------------+---------+---------+---------+------------+-----------+------------------+------------+------------------------+\n",
      "|window                                        |avg_price|min_price|max_price|price_stddev|trade_count|avg_quantity      |total_volume|price_percentiles       |\n",
      "+----------------------------------------------+---------+---------+---------+------------+-----------+------------------+------------+------------------------+\n",
      "|{+56866-05-23 11:45:00, +56866-05-23 11:46:00}|1.5489   |1.5489   |1.5489   |0.0         |5          |340.6             |1703.0      |[1.5489, 1.5489, 1.5489]|\n",
      "|{+56866-05-23 11:45:30, +56866-05-23 11:46:30}|1.5489   |1.5489   |1.5489   |0.0         |5          |340.6             |1703.0      |[1.5489, 1.5489, 1.5489]|\n",
      "|{+56866-05-23 11:56:00, +56866-05-23 11:57:00}|1.5488   |1.5488   |1.5488   |NULL        |1          |93.0              |93.0        |[1.5488, 1.5488, 1.5488]|\n",
      "|{+56866-05-23 11:57:30, +56866-05-23 11:58:30}|1.5488   |1.5488   |1.5488   |NULL        |1          |327.0             |327.0       |[1.5488, 1.5488, 1.5488]|\n",
      "|{+56866-05-23 11:57:00, +56866-05-23 11:58:00}|1.5488   |1.5488   |1.5488   |NULL        |1          |327.0             |327.0       |[1.5488, 1.5488, 1.5488]|\n",
      "|{+56866-05-23 12:01:00, +56866-05-23 12:02:00}|1.5487   |1.5487   |1.5487   |0.0         |6          |187.33333333333334|1124.0      |[1.5487, 1.5487, 1.5487]|\n",
      "|{+56866-05-23 11:52:00, +56866-05-23 11:53:00}|1.5488   |1.5488   |1.5488   |NULL        |1          |13.0              |13.0        |[1.5488, 1.5488, 1.5488]|\n",
      "|{+56866-05-23 11:55:30, +56866-05-23 11:56:30}|1.5488   |1.5488   |1.5488   |NULL        |1          |93.0              |93.0        |[1.5488, 1.5488, 1.5488]|\n",
      "|{+56866-05-23 11:52:30, +56866-05-23 11:53:30}|1.5488   |1.5488   |1.5488   |NULL        |1          |13.0              |13.0        |[1.5488, 1.5488, 1.5488]|\n",
      "|{+56866-05-23 12:01:30, +56866-05-23 12:02:30}|1.5487   |1.5487   |1.5487   |0.0         |6          |187.33333333333334|1124.0      |[1.5487, 1.5487, 1.5487]|\n",
      "+----------------------------------------------+---------+---------+---------+------------+-----------+------------------+------------+------------------------+\n",
      "\n"
     ]
    },
    {
     "name": "stderr",
     "output_type": "stream",
     "text": [
      "                                                                                \r"
     ]
    },
    {
     "name": "stdout",
     "output_type": "stream",
     "text": [
      "-------------------------------------------\n",
      "Batch: 7\n",
      "-------------------------------------------\n",
      "+----------------------------------------------+------------------+---------+---------+--------------------+-----------+-----------------+------------+------------------------+\n",
      "|window                                        |avg_price         |min_price|max_price|price_stddev        |trade_count|avg_quantity     |total_volume|price_percentiles       |\n",
      "+----------------------------------------------+------------------+---------+---------+--------------------+-----------+-----------------+------------+------------------------+\n",
      "|{+56866-05-23 12:08:30, +56866-05-23 12:09:30}|1.5488210526315789|1.5488   |1.5489   |4.188539082915205E-5|19         |108.6842105263158|2065.0      |[1.5488, 1.5488, 1.5488]|\n",
      "|{+56866-05-23 12:09:30, +56866-05-23 12:10:30}|1.5488            |1.5488   |1.5488   |NULL                |1          |52.0             |52.0        |[1.5488, 1.5488, 1.5488]|\n",
      "|{+56866-05-23 12:11:00, +56866-05-23 12:12:00}|1.5489            |1.5489   |1.5489   |NULL                |1          |3.0              |3.0         |[1.5489, 1.5489, 1.5489]|\n",
      "|{+56866-05-23 12:10:30, +56866-05-23 12:11:30}|1.5489            |1.5489   |1.5489   |NULL                |1          |3.0              |3.0         |[1.5489, 1.5489, 1.5489]|\n",
      "|{+56866-05-23 12:08:00, +56866-05-23 12:09:00}|1.5488210526315789|1.5488   |1.5489   |4.188539082915205E-5|19         |108.6842105263158|2065.0      |[1.5488, 1.5488, 1.5488]|\n",
      "|{+56866-05-23 12:10:00, +56866-05-23 12:11:00}|1.5488            |1.5488   |1.5488   |NULL                |1          |52.0             |52.0        |[1.5488, 1.5488, 1.5488]|\n",
      "+----------------------------------------------+------------------+---------+---------+--------------------+-----------+-----------------+------------+------------------------+\n",
      "\n"
     ]
    },
    {
     "name": "stderr",
     "output_type": "stream",
     "text": [
      "                                                                                \r"
     ]
    },
    {
     "name": "stdout",
     "output_type": "stream",
     "text": [
      "-------------------------------------------\n",
      "Batch: 8\n",
      "-------------------------------------------\n",
      "+----------------------------------------------+---------+---------+---------+------------+-----------+------------+------------+------------------------+\n",
      "|window                                        |avg_price|min_price|max_price|price_stddev|trade_count|avg_quantity|total_volume|price_percentiles       |\n",
      "+----------------------------------------------+---------+---------+---------+------------+-----------+------------+------------+------------------------+\n",
      "|{+56866-05-23 09:56:30, +56866-05-23 09:57:30}|1.5491   |1.5491   |1.5491   |0.0         |2          |4.0         |8.0         |[1.5491, 1.5491, 1.5491]|\n",
      "|{+56866-05-23 09:57:00, +56866-05-23 09:58:00}|1.5491   |1.5491   |1.5491   |0.0         |2          |4.0         |8.0         |[1.5491, 1.5491, 1.5491]|\n",
      "+----------------------------------------------+---------+---------+---------+------------+-----------+------------+------------+------------------------+\n",
      "\n"
     ]
    },
    {
     "name": "stderr",
     "output_type": "stream",
     "text": [
      "                                                                                \r"
     ]
    },
    {
     "name": "stdout",
     "output_type": "stream",
     "text": [
      "-------------------------------------------\n",
      "Batch: 9\n",
      "-------------------------------------------\n",
      "+----------------------------------------------+---------+---------+---------+------------+-----------+------------+------------+------------------------+\n",
      "|window                                        |avg_price|min_price|max_price|price_stddev|trade_count|avg_quantity|total_volume|price_percentiles       |\n",
      "+----------------------------------------------+---------+---------+---------+------------+-----------+------------+------------+------------------------+\n",
      "|{+56866-05-23 10:11:30, +56866-05-23 10:12:30}|1.5491   |1.5491   |1.5491   |0.0         |2          |45.0        |90.0        |[1.5491, 1.5491, 1.5491]|\n",
      "|{+56866-05-23 10:12:00, +56866-05-23 10:13:00}|1.5491   |1.5491   |1.5491   |0.0         |2          |45.0        |90.0        |[1.5491, 1.5491, 1.5491]|\n",
      "|{+56866-05-23 10:14:30, +56866-05-23 10:15:30}|1.5488   |1.5488   |1.5488   |0.0         |8          |311.25      |2490.0      |[1.5488, 1.5488, 1.5488]|\n",
      "|{+56866-05-23 10:14:00, +56866-05-23 10:15:00}|1.5489   |1.5489   |1.5489   |0.0         |4          |37.0        |148.0       |[1.5489, 1.5489, 1.5489]|\n",
      "|{+56866-05-23 10:15:00, +56866-05-23 10:16:00}|1.5488   |1.5488   |1.5488   |0.0         |8          |311.25      |2490.0      |[1.5488, 1.5488, 1.5488]|\n",
      "|{+56866-05-23 10:13:30, +56866-05-23 10:14:30}|1.5489   |1.5489   |1.5489   |0.0         |4          |37.0        |148.0       |[1.5489, 1.5489, 1.5489]|\n",
      "+----------------------------------------------+---------+---------+---------+------------+-----------+------------+------------+------------------------+\n",
      "\n"
     ]
    },
    {
     "name": "stderr",
     "output_type": "stream",
     "text": [
      "                                                                                \r"
     ]
    },
    {
     "name": "stdout",
     "output_type": "stream",
     "text": [
      "-------------------------------------------\n",
      "Batch: 10\n",
      "-------------------------------------------\n",
      "+----------------------------------------------+---------+---------+---------+------------+-----------+------------+------------+------------------------+\n",
      "|window                                        |avg_price|min_price|max_price|price_stddev|trade_count|avg_quantity|total_volume|price_percentiles       |\n",
      "+----------------------------------------------+---------+---------+---------+------------+-----------+------------+------------+------------------------+\n",
      "|{+56866-05-23 10:31:30, +56866-05-23 10:32:30}|1.5489   |1.5489   |1.5489   |0.0         |8          |150.0       |1200.0      |[1.5489, 1.5489, 1.5489]|\n",
      "|{+56866-05-23 10:31:00, +56866-05-23 10:32:00}|1.5489   |1.5489   |1.5489   |0.0         |8          |150.0       |1200.0      |[1.5489, 1.5489, 1.5489]|\n",
      "+----------------------------------------------+---------+---------+---------+------------+-----------+------------+------------+------------------------+\n",
      "\n"
     ]
    },
    {
     "name": "stderr",
     "output_type": "stream",
     "text": [
      "[Stage 25:=====================================================>(198 + 2) / 200]\r"
     ]
    },
    {
     "name": "stdout",
     "output_type": "stream",
     "text": [
      "-------------------------------------------\n",
      "Batch: 11\n",
      "-------------------------------------------\n"
     ]
    },
    {
     "name": "stderr",
     "output_type": "stream",
     "text": [
      "                                                                                \r"
     ]
    },
    {
     "name": "stdout",
     "output_type": "stream",
     "text": [
      "+----------------------------------------------+---------+---------+---------+------------+-----------+------------------+------------+------------------------+\n",
      "|window                                        |avg_price|min_price|max_price|price_stddev|trade_count|avg_quantity      |total_volume|price_percentiles       |\n",
      "+----------------------------------------------+---------+---------+---------+------------+-----------+------------------+------------+------------------------+\n",
      "|{+56866-05-23 10:58:00, +56866-05-23 10:59:00}|1.5489   |1.5489   |1.5489   |0.0         |2          |11.0              |22.0        |[1.5489, 1.5489, 1.5489]|\n",
      "|{+56866-05-23 10:49:30, +56866-05-23 10:50:30}|1.5489   |1.5489   |1.5489   |0.0         |24         |102.33333333333333|2456.0      |[1.5489, 1.5489, 1.5489]|\n",
      "|{+56866-05-23 10:57:30, +56866-05-23 10:58:30}|1.5489   |1.5489   |1.5489   |0.0         |2          |11.0              |22.0        |[1.5489, 1.5489, 1.5489]|\n",
      "|{+56866-05-23 10:54:00, +56866-05-23 10:55:00}|1.549    |1.549    |1.549    |0.0         |4          |109.5             |438.0       |[1.549, 1.549, 1.549]   |\n",
      "|{+56866-05-23 10:53:30, +56866-05-23 10:54:30}|1.549    |1.549    |1.549    |0.0         |4          |109.5             |438.0       |[1.549, 1.549, 1.549]   |\n",
      "|{+56866-05-23 10:49:00, +56866-05-23 10:50:00}|1.5489   |1.5489   |1.5489   |0.0         |24         |102.33333333333333|2456.0      |[1.5489, 1.5489, 1.5489]|\n",
      "+----------------------------------------------+---------+---------+---------+------------+-----------+------------------+------------+------------------------+\n",
      "\n"
     ]
    },
    {
     "name": "stderr",
     "output_type": "stream",
     "text": [
      "                                                                                \r"
     ]
    },
    {
     "name": "stdout",
     "output_type": "stream",
     "text": [
      "-------------------------------------------\n",
      "Batch: 12\n",
      "-------------------------------------------\n",
      "+----------------------------------------------+---------+---------+---------+------------+-----------+-----------------+------------+------------------------+\n",
      "|window                                        |avg_price|min_price|max_price|price_stddev|trade_count|avg_quantity     |total_volume|price_percentiles       |\n",
      "+----------------------------------------------+---------+---------+---------+------------+-----------+-----------------+------------+------------------------+\n",
      "|{+56866-05-23 11:16:30, +56866-05-23 11:17:30}|1.5489   |1.5489   |1.5489   |0.0         |2          |19.0             |38.0        |[1.5489, 1.5489, 1.5489]|\n",
      "|{+56866-05-23 11:22:00, +56866-05-23 11:23:00}|1.549    |1.549    |1.549    |0.0         |4          |358.0            |1432.0      |[1.549, 1.549, 1.549]   |\n",
      "|{+56866-05-23 11:21:30, +56866-05-23 11:22:30}|1.549    |1.549    |1.549    |0.0         |4          |358.0            |1432.0      |[1.549, 1.549, 1.549]   |\n",
      "|{+56866-05-23 11:17:00, +56866-05-23 11:18:00}|1.5489   |1.5489   |1.5489   |0.0         |2          |19.0             |38.0        |[1.5489, 1.5489, 1.5489]|\n",
      "|{+56866-05-23 11:29:30, +56866-05-23 11:30:30}|1.549    |1.549    |1.549    |0.0         |2          |64.0             |128.0       |[1.549, 1.549, 1.549]   |\n",
      "|{+56866-05-23 11:11:00, +56866-05-23 11:12:00}|1.5489   |1.5489   |1.5489   |0.0         |6          |374.3333333333333|2246.0      |[1.5489, 1.5489, 1.5489]|\n",
      "|{+56866-05-23 11:10:30, +56866-05-23 11:11:30}|1.5489   |1.5489   |1.5489   |0.0         |2          |6.0              |12.0        |[1.5489, 1.5489, 1.5489]|\n",
      "|{+56866-05-23 11:11:30, +56866-05-23 11:12:30}|1.5489   |1.5489   |1.5489   |0.0         |6          |374.3333333333333|2246.0      |[1.5489, 1.5489, 1.5489]|\n",
      "|{+56866-05-23 11:26:00, +56866-05-23 11:27:00}|1.5489   |1.5489   |1.5489   |0.0         |2          |43.0             |86.0        |[1.5489, 1.5489, 1.5489]|\n",
      "|{+56866-05-23 11:25:00, +56866-05-23 11:26:00}|1.5489   |1.5489   |1.5489   |0.0         |2          |10.0             |20.0        |[1.5489, 1.5489, 1.5489]|\n",
      "|{+56866-05-23 11:24:30, +56866-05-23 11:25:30}|1.5489   |1.5489   |1.5489   |0.0         |2          |10.0             |20.0        |[1.5489, 1.5489, 1.5489]|\n",
      "|{+56866-05-23 11:15:30, +56866-05-23 11:16:30}|1.5489   |1.5489   |1.5489   |0.0         |2          |64.0             |128.0       |[1.5489, 1.5489, 1.5489]|\n",
      "|{+56866-05-23 11:29:00, +56866-05-23 11:30:00}|1.549    |1.549    |1.549    |0.0         |2          |64.0             |128.0       |[1.549, 1.549, 1.549]   |\n",
      "|{+56866-05-23 11:16:00, +56866-05-23 11:17:00}|1.5489   |1.5489   |1.5489   |0.0         |2          |64.0             |128.0       |[1.5489, 1.5489, 1.5489]|\n",
      "|{+56866-05-23 11:25:30, +56866-05-23 11:26:30}|1.5489   |1.5489   |1.5489   |0.0         |2          |43.0             |86.0        |[1.5489, 1.5489, 1.5489]|\n",
      "|{+56866-05-23 11:10:00, +56866-05-23 11:11:00}|1.5489   |1.5489   |1.5489   |0.0         |2          |6.0              |12.0        |[1.5489, 1.5489, 1.5489]|\n",
      "+----------------------------------------------+---------+---------+---------+------------+-----------+-----------------+------------+------------------------+\n",
      "\n"
     ]
    },
    {
     "name": "stderr",
     "output_type": "stream",
     "text": [
      "                                                                                \r"
     ]
    },
    {
     "name": "stdout",
     "output_type": "stream",
     "text": [
      "-------------------------------------------\n",
      "Batch: 13\n",
      "-------------------------------------------\n",
      "+----------------------------------------------+---------+---------+---------+------------+-----------+------------+------------+------------------------+\n",
      "|window                                        |avg_price|min_price|max_price|price_stddev|trade_count|avg_quantity|total_volume|price_percentiles       |\n",
      "+----------------------------------------------+---------+---------+---------+------------+-----------+------------+------------+------------------------+\n",
      "|{+56866-05-23 11:45:00, +56866-05-23 11:46:00}|1.5489   |1.5489   |1.5489   |0.0         |10         |340.6       |3406.0      |[1.5489, 1.5489, 1.5489]|\n",
      "|{+56866-05-23 11:45:30, +56866-05-23 11:46:30}|1.5489   |1.5489   |1.5489   |0.0         |10         |340.6       |3406.0      |[1.5489, 1.5489, 1.5489]|\n",
      "|{+56866-05-23 11:56:00, +56866-05-23 11:57:00}|1.5488   |1.5488   |1.5488   |0.0         |2          |93.0        |186.0       |[1.5488, 1.5488, 1.5488]|\n",
      "|{+56866-05-23 11:52:00, +56866-05-23 11:53:00}|1.5488   |1.5488   |1.5488   |0.0         |2          |13.0        |26.0        |[1.5488, 1.5488, 1.5488]|\n",
      "|{+56866-05-23 11:55:30, +56866-05-23 11:56:30}|1.5488   |1.5488   |1.5488   |0.0         |2          |93.0        |186.0       |[1.5488, 1.5488, 1.5488]|\n",
      "|{+56866-05-23 11:52:30, +56866-05-23 11:53:30}|1.5488   |1.5488   |1.5488   |0.0         |2          |13.0        |26.0        |[1.5488, 1.5488, 1.5488]|\n",
      "+----------------------------------------------+---------+---------+---------+------------+-----------+------------+------------+------------------------+\n",
      "\n"
     ]
    },
    {
     "name": "stderr",
     "output_type": "stream",
     "text": [
      "                                                                                \r"
     ]
    },
    {
     "name": "stdout",
     "output_type": "stream",
     "text": [
      "-------------------------------------------\n",
      "Batch: 14\n",
      "-------------------------------------------\n",
      "+----------------------------------------------+------------------+---------+---------+---------------------+-----------+------------------+------------+------------------------+\n",
      "|window                                        |avg_price         |min_price|max_price|price_stddev         |trade_count|avg_quantity      |total_volume|price_percentiles       |\n",
      "+----------------------------------------------+------------------+---------+---------+---------------------+-----------+------------------+------------+------------------------+\n",
      "|{+56866-05-23 12:08:30, +56866-05-23 12:09:30}|1.5488142857142857|1.5488   |1.5489   |3.5503580124846993E-5|35         |69.8              |2443.0      |[1.5488, 1.5488, 1.5488]|\n",
      "|{+56866-05-23 11:57:30, +56866-05-23 11:58:30}|1.5488            |1.5488   |1.5488   |0.0                  |2          |327.0             |654.0       |[1.5488, 1.5488, 1.5488]|\n",
      "|{+56866-05-23 11:57:00, +56866-05-23 11:58:00}|1.5488            |1.5488   |1.5488   |0.0                  |2          |327.0             |654.0       |[1.5488, 1.5488, 1.5488]|\n",
      "|{+56866-05-23 12:01:00, +56866-05-23 12:02:00}|1.5487            |1.5487   |1.5487   |0.0                  |12         |187.33333333333334|2248.0      |[1.5487, 1.5487, 1.5487]|\n",
      "|{+56866-05-23 12:08:00, +56866-05-23 12:09:00}|1.5488142857142857|1.5488   |1.5489   |3.5503580124846993E-5|35         |69.8              |2443.0      |[1.5488, 1.5488, 1.5488]|\n",
      "|{+56866-05-23 12:01:30, +56866-05-23 12:02:30}|1.5487            |1.5487   |1.5487   |0.0                  |12         |187.33333333333334|2248.0      |[1.5487, 1.5487, 1.5487]|\n",
      "+----------------------------------------------+------------------+---------+---------+---------------------+-----------+------------------+------------+------------------------+\n",
      "\n"
     ]
    },
    {
     "name": "stderr",
     "output_type": "stream",
     "text": [
      "                                                                                \r"
     ]
    },
    {
     "name": "stdout",
     "output_type": "stream",
     "text": [
      "-------------------------------------------\n",
      "Batch: 15\n",
      "-------------------------------------------\n",
      "+----------------------------------------------+-----------------+---------+---------+---------------------+-----------+-----------------+------------+------------------------+\n",
      "|window                                        |avg_price        |min_price|max_price|price_stddev         |trade_count|avg_quantity     |total_volume|price_percentiles       |\n",
      "+----------------------------------------------+-----------------+---------+---------+---------------------+-----------+-----------------+------------+------------------------+\n",
      "|{+56866-05-23 12:08:30, +56866-05-23 12:09:30}|1.548821052631579|1.5488   |1.5489   |4.1315495011229496E-5|38         |108.6842105263158|4130.0      |[1.5488, 1.5488, 1.5488]|\n",
      "|{+56866-05-23 12:09:30, +56866-05-23 12:10:30}|1.5488           |1.5488   |1.5488   |0.0                  |2          |52.0             |104.0       |[1.5488, 1.5488, 1.5488]|\n",
      "|{+56866-05-23 12:11:00, +56866-05-23 12:12:00}|1.5489           |1.5489   |1.5489   |0.0                  |2          |3.0              |6.0         |[1.5489, 1.5489, 1.5489]|\n",
      "|{+56866-05-23 12:10:30, +56866-05-23 12:11:30}|1.5489           |1.5489   |1.5489   |0.0                  |2          |3.0              |6.0         |[1.5489, 1.5489, 1.5489]|\n",
      "|{+56866-05-23 12:08:00, +56866-05-23 12:09:00}|1.548821052631579|1.5488   |1.5489   |4.1315495011229496E-5|38         |108.6842105263158|4130.0      |[1.5488, 1.5488, 1.5488]|\n",
      "|{+56866-05-23 12:10:00, +56866-05-23 12:11:00}|1.5488           |1.5488   |1.5488   |0.0                  |2          |52.0             |104.0       |[1.5488, 1.5488, 1.5488]|\n",
      "+----------------------------------------------+-----------------+---------+---------+---------------------+-----------+-----------------+------------+------------------------+\n",
      "\n"
     ]
    },
    {
     "name": "stderr",
     "output_type": "stream",
     "text": [
      "                                                                                \r"
     ]
    },
    {
     "name": "stdout",
     "output_type": "stream",
     "text": [
      "-------------------------------------------\n",
      "Batch: 16\n",
      "-------------------------------------------\n",
      "+----------------------------------------------+---------+---------+---------+------------+-----------+------------+------------+------------------------+\n",
      "|window                                        |avg_price|min_price|max_price|price_stddev|trade_count|avg_quantity|total_volume|price_percentiles       |\n",
      "+----------------------------------------------+---------+---------+---------+------------+-----------+------------+------------+------------------------+\n",
      "|{+56866-05-23 09:56:30, +56866-05-23 09:57:30}|1.5491   |1.5491   |1.5491   |0.0         |3          |4.0         |12.0        |[1.5491, 1.5491, 1.5491]|\n",
      "|{+56866-05-23 09:57:00, +56866-05-23 09:58:00}|1.5491   |1.5491   |1.5491   |0.0         |3          |4.0         |12.0        |[1.5491, 1.5491, 1.5491]|\n",
      "+----------------------------------------------+---------+---------+---------+------------+-----------+------------+------------+------------------------+\n",
      "\n"
     ]
    },
    {
     "name": "stderr",
     "output_type": "stream",
     "text": [
      "                                                                                \r"
     ]
    },
    {
     "name": "stdout",
     "output_type": "stream",
     "text": [
      "-------------------------------------------\n",
      "Batch: 17\n",
      "-------------------------------------------\n",
      "+----------------------------------------------+---------+---------+---------+------------+-----------+------------+------------+------------------------+\n",
      "|window                                        |avg_price|min_price|max_price|price_stddev|trade_count|avg_quantity|total_volume|price_percentiles       |\n",
      "+----------------------------------------------+---------+---------+---------+------------+-----------+------------+------------+------------------------+\n",
      "|{+56866-05-23 10:11:30, +56866-05-23 10:12:30}|1.5491   |1.5491   |1.5491   |0.0         |3          |45.0        |135.0       |[1.5491, 1.5491, 1.5491]|\n",
      "|{+56866-05-23 10:12:00, +56866-05-23 10:13:00}|1.5491   |1.5491   |1.5491   |0.0         |3          |45.0        |135.0       |[1.5491, 1.5491, 1.5491]|\n",
      "|{+56866-05-23 10:14:30, +56866-05-23 10:15:30}|1.5488   |1.5488   |1.5488   |0.0         |10         |288.9       |2889.0      |[1.5488, 1.5488, 1.5488]|\n",
      "|{+56866-05-23 10:14:00, +56866-05-23 10:15:00}|1.5489   |1.5489   |1.5489   |0.0         |6          |37.0        |222.0       |[1.5489, 1.5489, 1.5489]|\n",
      "|{+56866-05-23 10:15:00, +56866-05-23 10:16:00}|1.5488   |1.5488   |1.5488   |0.0         |10         |288.9       |2889.0      |[1.5488, 1.5488, 1.5488]|\n",
      "|{+56866-05-23 10:13:30, +56866-05-23 10:14:30}|1.5489   |1.5489   |1.5489   |0.0         |6          |37.0        |222.0       |[1.5489, 1.5489, 1.5489]|\n",
      "+----------------------------------------------+---------+---------+---------+------------+-----------+------------+------------+------------------------+\n",
      "\n"
     ]
    },
    {
     "name": "stderr",
     "output_type": "stream",
     "text": [
      "                                                                                \r"
     ]
    },
    {
     "name": "stdout",
     "output_type": "stream",
     "text": [
      "-------------------------------------------\n",
      "Batch: 18\n",
      "-------------------------------------------\n",
      "+----------------------------------------------+---------+---------+---------+------------+-----------+------------+------------+------------------------+\n",
      "|window                                        |avg_price|min_price|max_price|price_stddev|trade_count|avg_quantity|total_volume|price_percentiles       |\n",
      "+----------------------------------------------+---------+---------+---------+------------+-----------+------------+------------+------------------------+\n",
      "|{+56866-05-23 10:14:30, +56866-05-23 10:15:30}|1.5488   |1.5488   |1.5488   |0.0         |12         |311.25      |3735.0      |[1.5488, 1.5488, 1.5488]|\n",
      "|{+56866-05-23 10:15:00, +56866-05-23 10:16:00}|1.5488   |1.5488   |1.5488   |0.0         |12         |311.25      |3735.0      |[1.5488, 1.5488, 1.5488]|\n",
      "+----------------------------------------------+---------+---------+---------+------------+-----------+------------+------------+------------------------+\n",
      "\n"
     ]
    },
    {
     "name": "stderr",
     "output_type": "stream",
     "text": [
      "                                                                                \r"
     ]
    },
    {
     "name": "stdout",
     "output_type": "stream",
     "text": [
      "-------------------------------------------\n",
      "Batch: 19\n",
      "-------------------------------------------\n",
      "+----------------------------------------------+---------+---------+---------+------------+-----------+------------------+------------+------------------------+\n",
      "|window                                        |avg_price|min_price|max_price|price_stddev|trade_count|avg_quantity      |total_volume|price_percentiles       |\n",
      "+----------------------------------------------+---------+---------+---------+------------+-----------+------------------+------------+------------------------+\n",
      "|{+56866-05-23 10:49:30, +56866-05-23 10:50:30}|1.5489   |1.5489   |1.5489   |0.0         |34         |108.11764705882354|3676.0      |[1.5489, 1.5489, 1.5489]|\n",
      "|{+56866-05-23 10:49:00, +56866-05-23 10:50:00}|1.5489   |1.5489   |1.5489   |0.0         |34         |108.11764705882354|3676.0      |[1.5489, 1.5489, 1.5489]|\n",
      "|{+56866-05-23 10:31:30, +56866-05-23 10:32:30}|1.5489   |1.5489   |1.5489   |0.0         |12         |150.0             |1800.0      |[1.5489, 1.5489, 1.5489]|\n",
      "|{+56866-05-23 10:31:00, +56866-05-23 10:32:00}|1.5489   |1.5489   |1.5489   |0.0         |12         |150.0             |1800.0      |[1.5489, 1.5489, 1.5489]|\n",
      "+----------------------------------------------+---------+---------+---------+------------+-----------+------------------+------------+------------------------+\n",
      "\n"
     ]
    },
    {
     "name": "stderr",
     "output_type": "stream",
     "text": [
      "                                                                                \r"
     ]
    },
    {
     "name": "stdout",
     "output_type": "stream",
     "text": [
      "-------------------------------------------\n",
      "Batch: 20\n",
      "-------------------------------------------\n",
      "+----------------------------------------------+------------------+---------+---------+------------+-----------+------------------+------------+------------------------+\n",
      "|window                                        |avg_price         |min_price|max_price|price_stddev|trade_count|avg_quantity      |total_volume|price_percentiles       |\n",
      "+----------------------------------------------+------------------+---------+---------+------------+-----------+------------------+------------+------------------------+\n",
      "|{+56866-05-23 10:58:00, +56866-05-23 10:59:00}|1.5489            |1.5489   |1.5489   |0.0         |3          |11.0              |33.0        |[1.5489, 1.5489, 1.5489]|\n",
      "|{+56866-05-23 10:49:30, +56866-05-23 10:50:30}|1.5489            |1.5489   |1.5489   |0.0         |36         |102.33333333333333|3684.0      |[1.5489, 1.5489, 1.5489]|\n",
      "|{+56866-05-23 11:16:30, +56866-05-23 11:17:30}|1.5489            |1.5489   |1.5489   |0.0         |3          |19.0              |57.0        |[1.5489, 1.5489, 1.5489]|\n",
      "|{+56866-05-23 11:22:00, +56866-05-23 11:23:00}|1.5490000000000002|1.549    |1.549    |0.0         |6          |358.0             |2148.0      |[1.549, 1.549, 1.549]   |\n",
      "|{+56866-05-23 11:21:30, +56866-05-23 11:22:30}|1.5490000000000002|1.549    |1.549    |0.0         |6          |358.0             |2148.0      |[1.549, 1.549, 1.549]   |\n",
      "|{+56866-05-23 11:17:00, +56866-05-23 11:18:00}|1.5489            |1.5489   |1.5489   |0.0         |3          |19.0              |57.0        |[1.5489, 1.5489, 1.5489]|\n",
      "|{+56866-05-23 10:57:30, +56866-05-23 10:58:30}|1.5489            |1.5489   |1.5489   |0.0         |3          |11.0              |33.0        |[1.5489, 1.5489, 1.5489]|\n",
      "|{+56866-05-23 11:11:00, +56866-05-23 11:12:00}|1.5489000000000002|1.5489   |1.5489   |0.0         |9          |374.3333333333333 |3369.0      |[1.5489, 1.5489, 1.5489]|\n",
      "|{+56866-05-23 10:54:00, +56866-05-23 10:55:00}|1.5490000000000002|1.549    |1.549    |0.0         |6          |109.5             |657.0       |[1.549, 1.549, 1.549]   |\n",
      "|{+56866-05-23 11:10:30, +56866-05-23 11:11:30}|1.5489            |1.5489   |1.5489   |0.0         |3          |6.0               |18.0        |[1.5489, 1.5489, 1.5489]|\n",
      "|{+56866-05-23 11:11:30, +56866-05-23 11:12:30}|1.5489000000000002|1.5489   |1.5489   |0.0         |9          |374.3333333333333 |3369.0      |[1.5489, 1.5489, 1.5489]|\n",
      "|{+56866-05-23 10:53:30, +56866-05-23 10:54:30}|1.5490000000000002|1.549    |1.549    |0.0         |6          |109.5             |657.0       |[1.549, 1.549, 1.549]   |\n",
      "|{+56866-05-23 10:49:00, +56866-05-23 10:50:00}|1.5489            |1.5489   |1.5489   |0.0         |36         |102.33333333333333|3684.0      |[1.5489, 1.5489, 1.5489]|\n",
      "|{+56866-05-23 11:26:00, +56866-05-23 11:27:00}|1.5489            |1.5489   |1.5489   |0.0         |3          |43.0              |129.0       |[1.5489, 1.5489, 1.5489]|\n",
      "|{+56866-05-23 11:25:00, +56866-05-23 11:26:00}|1.5489            |1.5489   |1.5489   |0.0         |3          |10.0              |30.0        |[1.5489, 1.5489, 1.5489]|\n",
      "|{+56866-05-23 11:24:30, +56866-05-23 11:25:30}|1.5489            |1.5489   |1.5489   |0.0         |3          |10.0              |30.0        |[1.5489, 1.5489, 1.5489]|\n",
      "|{+56866-05-23 11:15:30, +56866-05-23 11:16:30}|1.5489            |1.5489   |1.5489   |0.0         |3          |64.0              |192.0       |[1.5489, 1.5489, 1.5489]|\n",
      "|{+56866-05-23 11:16:00, +56866-05-23 11:17:00}|1.5489            |1.5489   |1.5489   |0.0         |3          |64.0              |192.0       |[1.5489, 1.5489, 1.5489]|\n",
      "|{+56866-05-23 11:25:30, +56866-05-23 11:26:30}|1.5489            |1.5489   |1.5489   |0.0         |3          |43.0              |129.0       |[1.5489, 1.5489, 1.5489]|\n",
      "|{+56866-05-23 11:10:00, +56866-05-23 11:11:00}|1.5489            |1.5489   |1.5489   |0.0         |3          |6.0               |18.0        |[1.5489, 1.5489, 1.5489]|\n",
      "+----------------------------------------------+------------------+---------+---------+------------+-----------+------------------+------------+------------------------+\n",
      "\n"
     ]
    },
    {
     "name": "stderr",
     "output_type": "stream",
     "text": [
      "                                                                                \r"
     ]
    },
    {
     "name": "stdout",
     "output_type": "stream",
     "text": [
      "-------------------------------------------\n",
      "Batch: 21\n",
      "-------------------------------------------\n",
      "+----------------------------------------------+------------------+---------+---------+------------+-----------+------------+------------+---------------------+\n",
      "|window                                        |avg_price         |min_price|max_price|price_stddev|trade_count|avg_quantity|total_volume|price_percentiles    |\n",
      "+----------------------------------------------+------------------+---------+---------+------------+-----------+------------+------------+---------------------+\n",
      "|{+56866-05-23 11:29:30, +56866-05-23 11:30:30}|1.5490000000000002|1.549    |1.549    |0.0         |3          |64.0        |192.0       |[1.549, 1.549, 1.549]|\n",
      "|{+56866-05-23 11:29:00, +56866-05-23 11:30:00}|1.5490000000000002|1.549    |1.549    |0.0         |3          |64.0        |192.0       |[1.549, 1.549, 1.549]|\n",
      "+----------------------------------------------+------------------+---------+---------+------------+-----------+------------+------------+---------------------+\n",
      "\n"
     ]
    },
    {
     "name": "stderr",
     "output_type": "stream",
     "text": [
      "                                                                                \r"
     ]
    },
    {
     "name": "stdout",
     "output_type": "stream",
     "text": [
      "-------------------------------------------\n",
      "Batch: 22\n",
      "-------------------------------------------\n",
      "+----------------------------------------------+------------------+---------+---------+--------------------+-----------+------------------+------------+------------------------+\n",
      "|window                                        |avg_price         |min_price|max_price|price_stddev        |trade_count|avg_quantity      |total_volume|price_percentiles       |\n",
      "+----------------------------------------------+------------------+---------+---------+--------------------+-----------+------------------+------------+------------------------+\n",
      "|{+56866-05-23 11:45:00, +56866-05-23 11:46:00}|1.5489            |1.5489   |1.5489   |0.0                 |15         |340.6             |5109.0      |[1.5489, 1.5489, 1.5489]|\n",
      "|{+56866-05-23 12:08:30, +56866-05-23 12:09:30}|1.5488190476190475|1.5488   |1.5489   |3.974366179316448E-5|42         |100.14285714285714|4206.0      |[1.5488, 1.5488, 1.5488]|\n",
      "|{+56866-05-23 11:45:30, +56866-05-23 11:46:30}|1.5489            |1.5489   |1.5489   |0.0                 |15         |340.6             |5109.0      |[1.5489, 1.5489, 1.5489]|\n",
      "|{+56866-05-23 11:56:00, +56866-05-23 11:57:00}|1.5488            |1.5488   |1.5488   |0.0                 |3          |93.0              |279.0       |[1.5488, 1.5488, 1.5488]|\n",
      "|{+56866-05-23 11:57:30, +56866-05-23 11:58:30}|1.5488            |1.5488   |1.5488   |0.0                 |3          |327.0             |981.0       |[1.5488, 1.5488, 1.5488]|\n",
      "|{+56866-05-23 11:57:00, +56866-05-23 11:58:00}|1.5488            |1.5488   |1.5488   |0.0                 |3          |327.0             |981.0       |[1.5488, 1.5488, 1.5488]|\n",
      "|{+56866-05-23 12:01:00, +56866-05-23 12:02:00}|1.5486999999999997|1.5487   |1.5487   |0.0                 |18         |187.33333333333334|3372.0      |[1.5487, 1.5487, 1.5487]|\n",
      "|{+56866-05-23 11:52:00, +56866-05-23 11:53:00}|1.5488            |1.5488   |1.5488   |0.0                 |3          |13.0              |39.0        |[1.5488, 1.5488, 1.5488]|\n",
      "|{+56866-05-23 12:08:00, +56866-05-23 12:09:00}|1.5488190476190475|1.5488   |1.5489   |3.974366179316448E-5|42         |100.14285714285714|4206.0      |[1.5488, 1.5488, 1.5488]|\n",
      "|{+56866-05-23 11:55:30, +56866-05-23 11:56:30}|1.5488            |1.5488   |1.5488   |0.0                 |3          |93.0              |279.0       |[1.5488, 1.5488, 1.5488]|\n",
      "|{+56866-05-23 11:52:30, +56866-05-23 11:53:30}|1.5488            |1.5488   |1.5488   |0.0                 |3          |13.0              |39.0        |[1.5488, 1.5488, 1.5488]|\n",
      "|{+56866-05-23 12:01:30, +56866-05-23 12:02:30}|1.5486999999999997|1.5487   |1.5487   |0.0                 |18         |187.33333333333334|3372.0      |[1.5487, 1.5487, 1.5487]|\n",
      "+----------------------------------------------+------------------+---------+---------+--------------------+-----------+------------------+------------+------------------------+\n",
      "\n"
     ]
    },
    {
     "name": "stderr",
     "output_type": "stream",
     "text": [
      "                                                                                \r"
     ]
    },
    {
     "name": "stdout",
     "output_type": "stream",
     "text": [
      "-------------------------------------------\n",
      "Batch: 23\n",
      "-------------------------------------------\n",
      "+----------------------------------------------+------------------+---------+---------+--------------------+-----------+-----------------+------------+------------------------+\n",
      "|window                                        |avg_price         |min_price|max_price|price_stddev        |trade_count|avg_quantity     |total_volume|price_percentiles       |\n",
      "+----------------------------------------------+------------------+---------+---------+--------------------+-----------+-----------------+------------+------------------------+\n",
      "|{+56866-05-23 12:08:30, +56866-05-23 12:09:30}|1.5488210526315789|1.5488   |1.5489   |4.113063728302965E-5|57         |108.6842105263158|6195.0      |[1.5488, 1.5488, 1.5488]|\n",
      "|{+56866-05-23 12:09:30, +56866-05-23 12:10:30}|1.5488            |1.5488   |1.5488   |0.0                 |3          |52.0             |156.0       |[1.5488, 1.5488, 1.5488]|\n",
      "|{+56866-05-23 12:11:00, +56866-05-23 12:12:00}|1.5489            |1.5489   |1.5489   |0.0                 |3          |3.0              |9.0         |[1.5489, 1.5489, 1.5489]|\n",
      "|{+56866-05-23 12:10:30, +56866-05-23 12:11:30}|1.5489            |1.5489   |1.5489   |0.0                 |3          |3.0              |9.0         |[1.5489, 1.5489, 1.5489]|\n",
      "|{+56866-05-23 12:08:00, +56866-05-23 12:09:00}|1.5488210526315789|1.5488   |1.5489   |4.113063728302965E-5|57         |108.6842105263158|6195.0      |[1.5488, 1.5488, 1.5488]|\n",
      "|{+56866-05-23 12:10:00, +56866-05-23 12:11:00}|1.5488            |1.5488   |1.5488   |0.0                 |3          |52.0             |156.0       |[1.5488, 1.5488, 1.5488]|\n",
      "+----------------------------------------------+------------------+---------+---------+--------------------+-----------+-----------------+------------+------------------------+\n",
      "\n"
     ]
    },
    {
     "name": "stderr",
     "output_type": "stream",
     "text": [
      "                                                                                \r"
     ]
    },
    {
     "name": "stdout",
     "output_type": "stream",
     "text": [
      "-------------------------------------------\n",
      "Batch: 24\n",
      "-------------------------------------------\n",
      "+----------------------------------------------+---------+---------+---------+------------+-----------+------------+------------+------------------------+\n",
      "|window                                        |avg_price|min_price|max_price|price_stddev|trade_count|avg_quantity|total_volume|price_percentiles       |\n",
      "+----------------------------------------------+---------+---------+---------+------------+-----------+------------+------------+------------------------+\n",
      "|{+56866-05-23 09:56:30, +56866-05-23 09:57:30}|1.5491   |1.5491   |1.5491   |0.0         |4          |4.0         |16.0        |[1.5491, 1.5491, 1.5491]|\n",
      "|{+56866-05-23 09:57:00, +56866-05-23 09:58:00}|1.5491   |1.5491   |1.5491   |0.0         |4          |4.0         |16.0        |[1.5491, 1.5491, 1.5491]|\n",
      "+----------------------------------------------+---------+---------+---------+------------+-----------+------------+------------+------------------------+\n",
      "\n"
     ]
    },
    {
     "name": "stderr",
     "output_type": "stream",
     "text": [
      "                                                                                \r"
     ]
    },
    {
     "name": "stdout",
     "output_type": "stream",
     "text": [
      "-------------------------------------------\n",
      "Batch: 25\n",
      "-------------------------------------------\n",
      "+----------------------------------------------+---------+---------+---------+------------+-----------+------------+------------+------------------------+\n",
      "|window                                        |avg_price|min_price|max_price|price_stddev|trade_count|avg_quantity|total_volume|price_percentiles       |\n",
      "+----------------------------------------------+---------+---------+---------+------------+-----------+------------+------------+------------------------+\n",
      "|{+56866-05-23 10:11:30, +56866-05-23 10:12:30}|1.5491   |1.5491   |1.5491   |0.0         |4          |45.0        |180.0       |[1.5491, 1.5491, 1.5491]|\n",
      "|{+56866-05-23 10:12:00, +56866-05-23 10:13:00}|1.5491   |1.5491   |1.5491   |0.0         |4          |45.0        |180.0       |[1.5491, 1.5491, 1.5491]|\n",
      "|{+56866-05-23 10:14:30, +56866-05-23 10:15:30}|1.5488   |1.5488   |1.5488   |0.0         |16         |311.25      |4980.0      |[1.5488, 1.5488, 1.5488]|\n",
      "|{+56866-05-23 10:14:00, +56866-05-23 10:15:00}|1.5489   |1.5489   |1.5489   |0.0         |8          |37.0        |296.0       |[1.5489, 1.5489, 1.5489]|\n",
      "|{+56866-05-23 10:15:00, +56866-05-23 10:16:00}|1.5488   |1.5488   |1.5488   |0.0         |16         |311.25      |4980.0      |[1.5488, 1.5488, 1.5488]|\n",
      "|{+56866-05-23 10:13:30, +56866-05-23 10:14:30}|1.5489   |1.5489   |1.5489   |0.0         |8          |37.0        |296.0       |[1.5489, 1.5489, 1.5489]|\n",
      "+----------------------------------------------+---------+---------+---------+------------+-----------+------------+------------+------------------------+\n",
      "\n"
     ]
    },
    {
     "name": "stderr",
     "output_type": "stream",
     "text": [
      "                                                                                \r"
     ]
    },
    {
     "name": "stdout",
     "output_type": "stream",
     "text": [
      "-------------------------------------------\n",
      "Batch: 26\n",
      "-------------------------------------------\n",
      "+----------------------------------------------+---------+---------+---------+------------+-----------+------------+------------+------------------------+\n",
      "|window                                        |avg_price|min_price|max_price|price_stddev|trade_count|avg_quantity|total_volume|price_percentiles       |\n",
      "+----------------------------------------------+---------+---------+---------+------------+-----------+------------+------------+------------------------+\n",
      "|{+56866-05-23 10:31:30, +56866-05-23 10:32:30}|1.5489   |1.5489   |1.5489   |0.0         |16         |150.0       |2400.0      |[1.5489, 1.5489, 1.5489]|\n",
      "|{+56866-05-23 10:31:00, +56866-05-23 10:32:00}|1.5489   |1.5489   |1.5489   |0.0         |16         |150.0       |2400.0      |[1.5489, 1.5489, 1.5489]|\n",
      "+----------------------------------------------+---------+---------+---------+------------+-----------+------------+------------+------------------------+\n",
      "\n"
     ]
    },
    {
     "name": "stderr",
     "output_type": "stream",
     "text": [
      "                                                                                \r"
     ]
    },
    {
     "name": "stdout",
     "output_type": "stream",
     "text": [
      "-------------------------------------------\n",
      "Batch: 27\n",
      "-------------------------------------------\n",
      "+----------------------------------------------+---------+---------+---------+------------+-----------+------------------+------------+------------------------+\n",
      "|window                                        |avg_price|min_price|max_price|price_stddev|trade_count|avg_quantity      |total_volume|price_percentiles       |\n",
      "+----------------------------------------------+---------+---------+---------+------------+-----------+------------------+------------+------------------------+\n",
      "|{+56866-05-23 10:58:00, +56866-05-23 10:59:00}|1.5489   |1.5489   |1.5489   |0.0         |4          |11.0              |44.0        |[1.5489, 1.5489, 1.5489]|\n",
      "|{+56866-05-23 10:49:30, +56866-05-23 10:50:30}|1.5489   |1.5489   |1.5489   |0.0         |48         |102.33333333333333|4912.0      |[1.5489, 1.5489, 1.5489]|\n",
      "|{+56866-05-23 10:57:30, +56866-05-23 10:58:30}|1.5489   |1.5489   |1.5489   |0.0         |4          |11.0              |44.0        |[1.5489, 1.5489, 1.5489]|\n",
      "|{+56866-05-23 11:11:00, +56866-05-23 11:12:00}|1.5489   |1.5489   |1.5489   |0.0         |11         |384.54545454545456|4230.0      |[1.5489, 1.5489, 1.5489]|\n",
      "|{+56866-05-23 10:54:00, +56866-05-23 10:55:00}|1.549    |1.549    |1.549    |0.0         |8          |109.5             |876.0       |[1.549, 1.549, 1.549]   |\n",
      "|{+56866-05-23 11:10:30, +56866-05-23 11:11:30}|1.5489   |1.5489   |1.5489   |0.0         |4          |6.0               |24.0        |[1.5489, 1.5489, 1.5489]|\n",
      "|{+56866-05-23 11:11:30, +56866-05-23 11:12:30}|1.5489   |1.5489   |1.5489   |0.0         |11         |384.54545454545456|4230.0      |[1.5489, 1.5489, 1.5489]|\n",
      "|{+56866-05-23 10:53:30, +56866-05-23 10:54:30}|1.549    |1.549    |1.549    |0.0         |8          |109.5             |876.0       |[1.549, 1.549, 1.549]   |\n",
      "|{+56866-05-23 10:49:00, +56866-05-23 10:50:00}|1.5489   |1.5489   |1.5489   |0.0         |48         |102.33333333333333|4912.0      |[1.5489, 1.5489, 1.5489]|\n",
      "|{+56866-05-23 11:10:00, +56866-05-23 11:11:00}|1.5489   |1.5489   |1.5489   |0.0         |4          |6.0               |24.0        |[1.5489, 1.5489, 1.5489]|\n",
      "+----------------------------------------------+---------+---------+---------+------------+-----------+------------------+------------+------------------------+\n",
      "\n"
     ]
    },
    {
     "name": "stderr",
     "output_type": "stream",
     "text": [
      "                                                                                \r"
     ]
    },
    {
     "name": "stdout",
     "output_type": "stream",
     "text": [
      "-------------------------------------------\n",
      "Batch: 28\n",
      "-------------------------------------------\n",
      "+----------------------------------------------+---------+---------+---------+------------+-----------+-----------------+------------+------------------------+\n",
      "|window                                        |avg_price|min_price|max_price|price_stddev|trade_count|avg_quantity     |total_volume|price_percentiles       |\n",
      "+----------------------------------------------+---------+---------+---------+------------+-----------+-----------------+------------+------------------------+\n",
      "|{+56866-05-23 11:16:30, +56866-05-23 11:17:30}|1.5489   |1.5489   |1.5489   |0.0         |4          |19.0             |76.0        |[1.5489, 1.5489, 1.5489]|\n",
      "|{+56866-05-23 11:22:00, +56866-05-23 11:23:00}|1.549    |1.549    |1.549    |0.0         |8          |358.0            |2864.0      |[1.549, 1.549, 1.549]   |\n",
      "|{+56866-05-23 11:21:30, +56866-05-23 11:22:30}|1.549    |1.549    |1.549    |0.0         |8          |358.0            |2864.0      |[1.549, 1.549, 1.549]   |\n",
      "|{+56866-05-23 11:17:00, +56866-05-23 11:18:00}|1.5489   |1.5489   |1.5489   |0.0         |4          |19.0             |76.0        |[1.5489, 1.5489, 1.5489]|\n",
      "|{+56866-05-23 11:29:30, +56866-05-23 11:30:30}|1.549    |1.549    |1.549    |0.0         |4          |64.0             |256.0       |[1.549, 1.549, 1.549]   |\n",
      "|{+56866-05-23 11:11:00, +56866-05-23 11:12:00}|1.5489   |1.5489   |1.5489   |0.0         |12         |374.3333333333333|4492.0      |[1.5489, 1.5489, 1.5489]|\n",
      "|{+56866-05-23 11:11:30, +56866-05-23 11:12:30}|1.5489   |1.5489   |1.5489   |0.0         |12         |374.3333333333333|4492.0      |[1.5489, 1.5489, 1.5489]|\n",
      "|{+56866-05-23 11:26:00, +56866-05-23 11:27:00}|1.5489   |1.5489   |1.5489   |0.0         |4          |43.0             |172.0       |[1.5489, 1.5489, 1.5489]|\n",
      "|{+56866-05-23 11:25:00, +56866-05-23 11:26:00}|1.5489   |1.5489   |1.5489   |0.0         |4          |10.0             |40.0        |[1.5489, 1.5489, 1.5489]|\n",
      "|{+56866-05-23 11:24:30, +56866-05-23 11:25:30}|1.5489   |1.5489   |1.5489   |0.0         |4          |10.0             |40.0        |[1.5489, 1.5489, 1.5489]|\n",
      "|{+56866-05-23 11:15:30, +56866-05-23 11:16:30}|1.5489   |1.5489   |1.5489   |0.0         |4          |64.0             |256.0       |[1.5489, 1.5489, 1.5489]|\n",
      "|{+56866-05-23 11:29:00, +56866-05-23 11:30:00}|1.549    |1.549    |1.549    |0.0         |4          |64.0             |256.0       |[1.549, 1.549, 1.549]   |\n",
      "|{+56866-05-23 11:16:00, +56866-05-23 11:17:00}|1.5489   |1.5489   |1.5489   |0.0         |4          |64.0             |256.0       |[1.5489, 1.5489, 1.5489]|\n",
      "|{+56866-05-23 11:25:30, +56866-05-23 11:26:30}|1.5489   |1.5489   |1.5489   |0.0         |4          |43.0             |172.0       |[1.5489, 1.5489, 1.5489]|\n",
      "+----------------------------------------------+---------+---------+---------+------------+-----------+-----------------+------------+------------------------+\n",
      "\n"
     ]
    },
    {
     "name": "stderr",
     "output_type": "stream",
     "text": [
      "                                                                                \r"
     ]
    },
    {
     "name": "stdout",
     "output_type": "stream",
     "text": [
      "-------------------------------------------\n",
      "Batch: 29\n",
      "-------------------------------------------\n",
      "+----------------------------------------------+---------+---------+---------+------------+-----------+------------+------------+------------------------+\n",
      "|window                                        |avg_price|min_price|max_price|price_stddev|trade_count|avg_quantity|total_volume|price_percentiles       |\n",
      "+----------------------------------------------+---------+---------+---------+------------+-----------+------------+------------+------------------------+\n",
      "|{+56866-05-23 11:45:00, +56866-05-23 11:46:00}|1.5489   |1.5489   |1.5489   |0.0         |20         |340.6       |6812.0      |[1.5489, 1.5489, 1.5489]|\n",
      "|{+56866-05-23 11:45:30, +56866-05-23 11:46:30}|1.5489   |1.5489   |1.5489   |0.0         |20         |340.6       |6812.0      |[1.5489, 1.5489, 1.5489]|\n",
      "|{+56866-05-23 11:56:00, +56866-05-23 11:57:00}|1.5488   |1.5488   |1.5488   |0.0         |4          |93.0        |372.0       |[1.5488, 1.5488, 1.5488]|\n",
      "|{+56866-05-23 11:57:30, +56866-05-23 11:58:30}|1.5488   |1.5488   |1.5488   |0.0         |4          |327.0       |1308.0      |[1.5488, 1.5488, 1.5488]|\n",
      "|{+56866-05-23 11:57:00, +56866-05-23 11:58:00}|1.5488   |1.5488   |1.5488   |0.0         |4          |327.0       |1308.0      |[1.5488, 1.5488, 1.5488]|\n",
      "|{+56866-05-23 11:52:00, +56866-05-23 11:53:00}|1.5488   |1.5488   |1.5488   |0.0         |4          |13.0        |52.0        |[1.5488, 1.5488, 1.5488]|\n",
      "|{+56866-05-23 11:55:30, +56866-05-23 11:56:30}|1.5488   |1.5488   |1.5488   |0.0         |4          |93.0        |372.0       |[1.5488, 1.5488, 1.5488]|\n",
      "|{+56866-05-23 11:52:30, +56866-05-23 11:53:30}|1.5488   |1.5488   |1.5488   |0.0         |4          |13.0        |52.0        |[1.5488, 1.5488, 1.5488]|\n",
      "+----------------------------------------------+---------+---------+---------+------------+-----------+------------+------------+------------------------+\n",
      "\n"
     ]
    },
    {
     "name": "stderr",
     "output_type": "stream",
     "text": [
      "                                                                                \r"
     ]
    },
    {
     "name": "stdout",
     "output_type": "stream",
     "text": [
      "-------------------------------------------\n",
      "Batch: 30\n",
      "-------------------------------------------\n",
      "+----------------------------------------------+------------------+---------+---------+--------------------+-----------+------------------+------------+------------------------+\n",
      "|window                                        |avg_price         |min_price|max_price|price_stddev        |trade_count|avg_quantity      |total_volume|price_percentiles       |\n",
      "+----------------------------------------------+------------------+---------+---------+--------------------+-----------+------------------+------------+------------------------+\n",
      "|{+56866-05-23 12:08:30, +56866-05-23 12:09:30}|1.5488210526315789|1.5488   |1.5489   |4.103913408340077E-5|76         |108.6842105263158 |8260.0      |[1.5488, 1.5488, 1.5488]|\n",
      "|{+56866-05-23 12:01:00, +56866-05-23 12:02:00}|1.5487            |1.5487   |1.5487   |0.0                 |24         |187.33333333333334|4496.0      |[1.5487, 1.5487, 1.5487]|\n",
      "|{+56866-05-23 12:08:00, +56866-05-23 12:09:00}|1.5488210526315789|1.5488   |1.5489   |4.103913408340077E-5|76         |108.6842105263158 |8260.0      |[1.5488, 1.5488, 1.5488]|\n",
      "|{+56866-05-23 12:01:30, +56866-05-23 12:02:30}|1.5487            |1.5487   |1.5487   |0.0                 |24         |187.33333333333334|4496.0      |[1.5487, 1.5487, 1.5487]|\n",
      "+----------------------------------------------+------------------+---------+---------+--------------------+-----------+------------------+------------+------------------------+\n",
      "\n"
     ]
    },
    {
     "name": "stderr",
     "output_type": "stream",
     "text": [
      "                                                                                \r"
     ]
    },
    {
     "name": "stdout",
     "output_type": "stream",
     "text": [
      "-------------------------------------------\n",
      "Batch: 31\n",
      "-------------------------------------------\n",
      "+----------------------------------------------+---------+---------+---------+------------+-----------+------------+------------+------------------------+\n",
      "|window                                        |avg_price|min_price|max_price|price_stddev|trade_count|avg_quantity|total_volume|price_percentiles       |\n",
      "+----------------------------------------------+---------+---------+---------+------------+-----------+------------+------------+------------------------+\n",
      "|{+56866-05-23 12:09:30, +56866-05-23 12:10:30}|1.5488   |1.5488   |1.5488   |0.0         |4          |52.0        |208.0       |[1.5488, 1.5488, 1.5488]|\n",
      "|{+56866-05-23 12:11:00, +56866-05-23 12:12:00}|1.5489   |1.5489   |1.5489   |0.0         |4          |3.0         |12.0        |[1.5489, 1.5489, 1.5489]|\n",
      "|{+56866-05-23 12:10:30, +56866-05-23 12:11:30}|1.5489   |1.5489   |1.5489   |0.0         |4          |3.0         |12.0        |[1.5489, 1.5489, 1.5489]|\n",
      "|{+56866-05-23 12:10:00, +56866-05-23 12:11:00}|1.5488   |1.5488   |1.5488   |0.0         |4          |52.0        |208.0       |[1.5488, 1.5488, 1.5488]|\n",
      "+----------------------------------------------+---------+---------+---------+------------+-----------+------------+------------+------------------------+\n",
      "\n"
     ]
    },
    {
     "name": "stderr",
     "output_type": "stream",
     "text": [
      "                                                                                \r"
     ]
    },
    {
     "name": "stdout",
     "output_type": "stream",
     "text": [
      "-------------------------------------------\n",
      "Batch: 32\n",
      "-------------------------------------------\n",
      "+----------------------------------------------+---------+---------+---------+------------+-----------+------------+------------+------------------------+\n",
      "|window                                        |avg_price|min_price|max_price|price_stddev|trade_count|avg_quantity|total_volume|price_percentiles       |\n",
      "+----------------------------------------------+---------+---------+---------+------------+-----------+------------+------------+------------------------+\n",
      "|{+56866-05-23 09:56:30, +56866-05-23 09:57:30}|1.5491   |1.5491   |1.5491   |0.0         |5          |4.0         |20.0        |[1.5491, 1.5491, 1.5491]|\n",
      "|{+56866-05-23 09:57:00, +56866-05-23 09:58:00}|1.5491   |1.5491   |1.5491   |0.0         |5          |4.0         |20.0        |[1.5491, 1.5491, 1.5491]|\n",
      "+----------------------------------------------+---------+---------+---------+------------+-----------+------------+------------+------------------------+\n",
      "\n"
     ]
    },
    {
     "name": "stderr",
     "output_type": "stream",
     "text": [
      "                                                                                \r"
     ]
    },
    {
     "name": "stdout",
     "output_type": "stream",
     "text": [
      "-------------------------------------------\n",
      "Batch: 33\n",
      "-------------------------------------------\n",
      "+----------------------------------------------+---------+---------+---------+------------+-----------+------------+------------+------------------------+\n",
      "|window                                        |avg_price|min_price|max_price|price_stddev|trade_count|avg_quantity|total_volume|price_percentiles       |\n",
      "+----------------------------------------------+---------+---------+---------+------------+-----------+------------+------------+------------------------+\n",
      "|{+56866-05-23 10:11:30, +56866-05-23 10:12:30}|1.5491   |1.5491   |1.5491   |0.0         |5          |45.0        |225.0       |[1.5491, 1.5491, 1.5491]|\n",
      "|{+56866-05-23 10:12:00, +56866-05-23 10:13:00}|1.5491   |1.5491   |1.5491   |0.0         |5          |45.0        |225.0       |[1.5491, 1.5491, 1.5491]|\n",
      "|{+56866-05-23 10:14:30, +56866-05-23 10:15:30}|1.5488   |1.5488   |1.5488   |0.0         |20         |311.25      |6225.0      |[1.5488, 1.5488, 1.5488]|\n",
      "|{+56866-05-23 10:14:00, +56866-05-23 10:15:00}|1.5489   |1.5489   |1.5489   |0.0         |10         |37.0        |370.0       |[1.5489, 1.5489, 1.5489]|\n",
      "|{+56866-05-23 10:15:00, +56866-05-23 10:16:00}|1.5488   |1.5488   |1.5488   |0.0         |20         |311.25      |6225.0      |[1.5488, 1.5488, 1.5488]|\n",
      "|{+56866-05-23 10:13:30, +56866-05-23 10:14:30}|1.5489   |1.5489   |1.5489   |0.0         |10         |37.0        |370.0       |[1.5489, 1.5489, 1.5489]|\n",
      "+----------------------------------------------+---------+---------+---------+------------+-----------+------------+------------+------------------------+\n",
      "\n"
     ]
    }
   ],
   "source": [
    "\n",
    "console_query.awaitTermination()\n",
    "kafka_query.awaitTermination()\n"
   ]
  },
  {
   "cell_type": "code",
   "execution_count": 20,
   "metadata": {},
   "outputs": [],
   "source": []
  }
 ],
 "metadata": {
  "kernelspec": {
   "display_name": "Python 3",
   "language": "python",
   "name": "python3"
  },
  "language_info": {
   "codemirror_mode": {
    "name": "ipython",
    "version": 3
   },
   "file_extension": ".py",
   "mimetype": "text/x-python",
   "name": "python",
   "nbconvert_exporter": "python",
   "pygments_lexer": "ipython3",
   "version": "3.10.12"
  }
 },
 "nbformat": 4,
 "nbformat_minor": 2
}
